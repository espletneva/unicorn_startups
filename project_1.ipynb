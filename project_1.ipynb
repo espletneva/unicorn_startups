{
 "cells": [
  {
   "cell_type": "code",
   "execution_count": 1,
   "id": "90881045",
   "metadata": {},
   "outputs": [],
   "source": [
    "import pandas as pd\n",
    "import numpy as np\n",
    "import matplotlib.pyplot as plt\n",
    "from datetime import datetime\n",
    "import seaborn as sns"
   ]
  },
  {
   "cell_type": "code",
   "execution_count": 2,
   "id": "94662c84",
   "metadata": {},
   "outputs": [
    {
     "name": "stdout",
     "output_type": "stream",
     "text": [
      "(936, 10)\n"
     ]
    },
    {
     "data": {
      "text/html": [
       "<div>\n",
       "<style scoped>\n",
       "    .dataframe tbody tr th:only-of-type {\n",
       "        vertical-align: middle;\n",
       "    }\n",
       "\n",
       "    .dataframe tbody tr th {\n",
       "        vertical-align: top;\n",
       "    }\n",
       "\n",
       "    .dataframe thead th {\n",
       "        text-align: right;\n",
       "    }\n",
       "</style>\n",
       "<table border=\"1\" class=\"dataframe\">\n",
       "  <thead>\n",
       "    <tr style=\"text-align: right;\">\n",
       "      <th></th>\n",
       "      <th>Company</th>\n",
       "      <th>Valuation</th>\n",
       "      <th>Date</th>\n",
       "      <th>Country</th>\n",
       "      <th>City</th>\n",
       "      <th>Industry</th>\n",
       "      <th>Investors</th>\n",
       "      <th>year</th>\n",
       "      <th>month</th>\n",
       "      <th>day</th>\n",
       "    </tr>\n",
       "  </thead>\n",
       "  <tbody>\n",
       "    <tr>\n",
       "      <th>0</th>\n",
       "      <td>Bytedance</td>\n",
       "      <td>140.0</td>\n",
       "      <td>4/7/2017</td>\n",
       "      <td>China</td>\n",
       "      <td>Beijing</td>\n",
       "      <td>Artificial intelligence</td>\n",
       "      <td>0      Sequoia Capital China, SIG Asia Investm...</td>\n",
       "      <td>2017</td>\n",
       "      <td>7</td>\n",
       "      <td>4</td>\n",
       "    </tr>\n",
       "    <tr>\n",
       "      <th>1</th>\n",
       "      <td>SpaceX</td>\n",
       "      <td>100.3</td>\n",
       "      <td>12/1/2012</td>\n",
       "      <td>United States</td>\n",
       "      <td>Hawthorne</td>\n",
       "      <td>Other</td>\n",
       "      <td>0      Sequoia Capital China, SIG Asia Investm...</td>\n",
       "      <td>2012</td>\n",
       "      <td>1</td>\n",
       "      <td>12</td>\n",
       "    </tr>\n",
       "    <tr>\n",
       "      <th>2</th>\n",
       "      <td>Stripe</td>\n",
       "      <td>95.0</td>\n",
       "      <td>1/23/2014</td>\n",
       "      <td>United States</td>\n",
       "      <td>San Francisco</td>\n",
       "      <td>Fintech</td>\n",
       "      <td>0      Sequoia Capital China, SIG Asia Investm...</td>\n",
       "      <td>2014</td>\n",
       "      <td>23</td>\n",
       "      <td>1</td>\n",
       "    </tr>\n",
       "    <tr>\n",
       "      <th>3</th>\n",
       "      <td>Klarna</td>\n",
       "      <td>45.6</td>\n",
       "      <td>12/12/2011</td>\n",
       "      <td>Sweden</td>\n",
       "      <td>Stockholm</td>\n",
       "      <td>Fintech</td>\n",
       "      <td>0      Sequoia Capital China, SIG Asia Investm...</td>\n",
       "      <td>2011</td>\n",
       "      <td>12</td>\n",
       "      <td>12</td>\n",
       "    </tr>\n",
       "    <tr>\n",
       "      <th>4</th>\n",
       "      <td>Canva</td>\n",
       "      <td>40.0</td>\n",
       "      <td>1/8/2018</td>\n",
       "      <td>Australia</td>\n",
       "      <td>Surry Hills</td>\n",
       "      <td>Internet software &amp; services</td>\n",
       "      <td>0      Sequoia Capital China, SIG Asia Investm...</td>\n",
       "      <td>2018</td>\n",
       "      <td>8</td>\n",
       "      <td>1</td>\n",
       "    </tr>\n",
       "  </tbody>\n",
       "</table>\n",
       "</div>"
      ],
      "text/plain": [
       "     Company  Valuation        Date        Country           City  \\\n",
       "0  Bytedance      140.0    4/7/2017          China        Beijing   \n",
       "1     SpaceX      100.3   12/1/2012  United States      Hawthorne   \n",
       "2     Stripe       95.0   1/23/2014  United States  San Francisco   \n",
       "3     Klarna       45.6  12/12/2011         Sweden      Stockholm   \n",
       "4      Canva       40.0    1/8/2018      Australia    Surry Hills   \n",
       "\n",
       "                       Industry  \\\n",
       "0       Artificial intelligence   \n",
       "1                         Other   \n",
       "2                       Fintech   \n",
       "3                       Fintech   \n",
       "4  Internet software & services   \n",
       "\n",
       "                                           Investors  year  month  day  \n",
       "0  0      Sequoia Capital China, SIG Asia Investm...  2017      7    4  \n",
       "1  0      Sequoia Capital China, SIG Asia Investm...  2012      1   12  \n",
       "2  0      Sequoia Capital China, SIG Asia Investm...  2014     23    1  \n",
       "3  0      Sequoia Capital China, SIG Asia Investm...  2011     12   12  \n",
       "4  0      Sequoia Capital China, SIG Asia Investm...  2018      8    1  "
      ]
     },
     "execution_count": 2,
     "metadata": {},
     "output_type": "execute_result"
    }
   ],
   "source": [
    "startups = pd.read_csv('/Users/lisapletneva/Downloads/World_Wide_Unicorn_Startups.csv')\n",
    "print(startups.shape)\n",
    "startups.head()"
   ]
  },
  {
   "cell_type": "code",
   "execution_count": 3,
   "id": "c0cdb6cd",
   "metadata": {},
   "outputs": [
    {
     "name": "stdout",
     "output_type": "stream",
     "text": [
      "<class 'pandas.core.frame.DataFrame'>\n",
      "RangeIndex: 936 entries, 0 to 935\n",
      "Data columns (total 10 columns):\n",
      " #   Column     Non-Null Count  Dtype  \n",
      "---  ------     --------------  -----  \n",
      " 0   Company    936 non-null    object \n",
      " 1   Valuation  936 non-null    float64\n",
      " 2   Date       936 non-null    object \n",
      " 3   Country    936 non-null    object \n",
      " 4   City       921 non-null    object \n",
      " 5   Industry   936 non-null    object \n",
      " 6   Investors  936 non-null    object \n",
      " 7   year       936 non-null    int64  \n",
      " 8   month      936 non-null    int64  \n",
      " 9   day        936 non-null    int64  \n",
      "dtypes: float64(1), int64(3), object(6)\n",
      "memory usage: 73.2+ KB\n"
     ]
    }
   ],
   "source": [
    "startups.info()"
   ]
  },
  {
   "cell_type": "markdown",
   "id": "4ee7d79b",
   "metadata": {},
   "source": [
    " <font color = '#0158e3'> *Исходя из числа значений в строках, можем сказать, что в строке city есть пропущенные значения*"
   ]
  },
  {
   "cell_type": "markdown",
   "id": "4c4f5ef1",
   "metadata": {},
   "source": [
    "# <font color = '#f364a2'> Проверка и косметические преобразования датасета и данных"
   ]
  },
  {
   "cell_type": "markdown",
   "id": "9279e12a",
   "metadata": {},
   "source": [
    "###  №1 Переведем все буквы в названиях колонок в нижний регистр"
   ]
  },
  {
   "cell_type": "code",
   "execution_count": 4,
   "id": "aebb7646",
   "metadata": {},
   "outputs": [],
   "source": [
    "def low_register_columns_names(name):\n",
    "    new_name = name.lower()\n",
    "    return new_name"
   ]
  },
  {
   "cell_type": "code",
   "execution_count": 5,
   "id": "46343284",
   "metadata": {},
   "outputs": [],
   "source": [
    "startups.rename(columns=low_register_columns_names, inplace=True)"
   ]
  },
  {
   "cell_type": "code",
   "execution_count": 6,
   "id": "c8755036",
   "metadata": {},
   "outputs": [
    {
     "data": {
      "text/plain": [
       "Index(['company', 'valuation', 'date', 'country', 'city', 'industry',\n",
       "       'investors', 'year', 'month', 'day'],\n",
       "      dtype='object')"
      ]
     },
     "execution_count": 6,
     "metadata": {},
     "output_type": "execute_result"
    }
   ],
   "source": [
    "startups.columns"
   ]
  },
  {
   "cell_type": "markdown",
   "id": "6c25a867",
   "metadata": {},
   "source": [
    "### №2 Поработаем с датами \n",
    "Столбцы year, month, day  - выглядят лишними, так как выполнять операции с датой мы можем и по одному столбцу date. Переведем этот столбец в нужный формат и удалим 3 последних столбца.\n",
    "\n",
    "*Также можно заметить, что данные в столбцах month и day перепутаны местами (см. строка 2 - месяц 23).*"
   ]
  },
  {
   "cell_type": "code",
   "execution_count": 7,
   "id": "558a32fd",
   "metadata": {},
   "outputs": [],
   "source": [
    "startups['date'] = pd.to_datetime(startups['date'], yearfirst = True)"
   ]
  },
  {
   "cell_type": "code",
   "execution_count": 8,
   "id": "89e9ef54",
   "metadata": {},
   "outputs": [
    {
     "data": {
      "text/plain": [
       "company              object\n",
       "valuation           float64\n",
       "date         datetime64[ns]\n",
       "country              object\n",
       "city                 object\n",
       "industry             object\n",
       "investors            object\n",
       "year                  int64\n",
       "month                 int64\n",
       "day                   int64\n",
       "dtype: object"
      ]
     },
     "execution_count": 8,
     "metadata": {},
     "output_type": "execute_result"
    }
   ],
   "source": [
    "startups.dtypes"
   ]
  },
  {
   "cell_type": "markdown",
   "id": "0f0e9c96",
   "metadata": {},
   "source": [
    " <font color = '#0158e3'> *Проверили, что тип данных в столбце date изменился*"
   ]
  },
  {
   "cell_type": "code",
   "execution_count": 9,
   "id": "2f6d007d",
   "metadata": {
    "scrolled": true
   },
   "outputs": [
    {
     "data": {
      "text/html": [
       "<div>\n",
       "<style scoped>\n",
       "    .dataframe tbody tr th:only-of-type {\n",
       "        vertical-align: middle;\n",
       "    }\n",
       "\n",
       "    .dataframe tbody tr th {\n",
       "        vertical-align: top;\n",
       "    }\n",
       "\n",
       "    .dataframe thead th {\n",
       "        text-align: right;\n",
       "    }\n",
       "</style>\n",
       "<table border=\"1\" class=\"dataframe\">\n",
       "  <thead>\n",
       "    <tr style=\"text-align: right;\">\n",
       "      <th></th>\n",
       "      <th>company</th>\n",
       "      <th>valuation</th>\n",
       "      <th>date</th>\n",
       "      <th>country</th>\n",
       "      <th>city</th>\n",
       "      <th>industry</th>\n",
       "      <th>investors</th>\n",
       "    </tr>\n",
       "  </thead>\n",
       "  <tbody>\n",
       "    <tr>\n",
       "      <th>0</th>\n",
       "      <td>Bytedance</td>\n",
       "      <td>140.0</td>\n",
       "      <td>2017-04-07</td>\n",
       "      <td>China</td>\n",
       "      <td>Beijing</td>\n",
       "      <td>Artificial intelligence</td>\n",
       "      <td>0      Sequoia Capital China, SIG Asia Investm...</td>\n",
       "    </tr>\n",
       "    <tr>\n",
       "      <th>1</th>\n",
       "      <td>SpaceX</td>\n",
       "      <td>100.3</td>\n",
       "      <td>2012-12-01</td>\n",
       "      <td>United States</td>\n",
       "      <td>Hawthorne</td>\n",
       "      <td>Other</td>\n",
       "      <td>0      Sequoia Capital China, SIG Asia Investm...</td>\n",
       "    </tr>\n",
       "    <tr>\n",
       "      <th>2</th>\n",
       "      <td>Stripe</td>\n",
       "      <td>95.0</td>\n",
       "      <td>2014-01-23</td>\n",
       "      <td>United States</td>\n",
       "      <td>San Francisco</td>\n",
       "      <td>Fintech</td>\n",
       "      <td>0      Sequoia Capital China, SIG Asia Investm...</td>\n",
       "    </tr>\n",
       "    <tr>\n",
       "      <th>3</th>\n",
       "      <td>Klarna</td>\n",
       "      <td>45.6</td>\n",
       "      <td>2011-12-12</td>\n",
       "      <td>Sweden</td>\n",
       "      <td>Stockholm</td>\n",
       "      <td>Fintech</td>\n",
       "      <td>0      Sequoia Capital China, SIG Asia Investm...</td>\n",
       "    </tr>\n",
       "    <tr>\n",
       "      <th>4</th>\n",
       "      <td>Canva</td>\n",
       "      <td>40.0</td>\n",
       "      <td>2018-01-08</td>\n",
       "      <td>Australia</td>\n",
       "      <td>Surry Hills</td>\n",
       "      <td>Internet software &amp; services</td>\n",
       "      <td>0      Sequoia Capital China, SIG Asia Investm...</td>\n",
       "    </tr>\n",
       "  </tbody>\n",
       "</table>\n",
       "</div>"
      ],
      "text/plain": [
       "     company  valuation       date        country           city  \\\n",
       "0  Bytedance      140.0 2017-04-07          China        Beijing   \n",
       "1     SpaceX      100.3 2012-12-01  United States      Hawthorne   \n",
       "2     Stripe       95.0 2014-01-23  United States  San Francisco   \n",
       "3     Klarna       45.6 2011-12-12         Sweden      Stockholm   \n",
       "4      Canva       40.0 2018-01-08      Australia    Surry Hills   \n",
       "\n",
       "                       industry  \\\n",
       "0       Artificial intelligence   \n",
       "1                         Other   \n",
       "2                       Fintech   \n",
       "3                       Fintech   \n",
       "4  Internet software & services   \n",
       "\n",
       "                                           investors  \n",
       "0  0      Sequoia Capital China, SIG Asia Investm...  \n",
       "1  0      Sequoia Capital China, SIG Asia Investm...  \n",
       "2  0      Sequoia Capital China, SIG Asia Investm...  \n",
       "3  0      Sequoia Capital China, SIG Asia Investm...  \n",
       "4  0      Sequoia Capital China, SIG Asia Investm...  "
      ]
     },
     "execution_count": 9,
     "metadata": {},
     "output_type": "execute_result"
    }
   ],
   "source": [
    "startups.drop(columns = ['year', 'month', 'day'], inplace = True)\n",
    "startups.head()"
   ]
  },
  {
   "cell_type": "markdown",
   "id": "9e93f90e",
   "metadata": {},
   "source": [
    " <font color = '#0158e3'> *Удалили ненужные столбцы*"
   ]
  },
  {
   "cell_type": "markdown",
   "id": "3d4df519",
   "metadata": {},
   "source": [
    "### №3 Посмотрим уникальные значения колонок на предмет ошибок"
   ]
  },
  {
   "cell_type": "code",
   "execution_count": 10,
   "id": "376b03ff",
   "metadata": {},
   "outputs": [
    {
     "data": {
      "text/plain": [
       "array(['China', 'United States', 'Sweden', 'Australia', 'United Kingdom',\n",
       "       'Brazil', 'Hong Kong', 'India', 'Indonesia', 'Germany', 'Mexico',\n",
       "       'Canada', 'Turkey', 'South Korea', 'Netherlands', 'Israel',\n",
       "       'Colombia', 'Belgium', 'Lithuania', 'Estonia', 'France', 'Austria',\n",
       "       'Ireland', 'Singapore', 'Vietnam', 'United Arab Emirates',\n",
       "       'Switzerland', 'Argentina', 'Spain', 'Japan', 'Luxembourg',\n",
       "       'Nigeria', 'Santa Clara', 'Finland', 'Philippines', 'Denmark',\n",
       "       'Senegal', 'Bermuda', 'Norway', 'South Africa', 'Chile',\n",
       "       'Thailand', 'Malaysia', 'Czech Republic', 'Croatia',\n",
       "       'United States,', 'Indonesia,'], dtype=object)"
      ]
     },
     "execution_count": 10,
     "metadata": {},
     "output_type": "execute_result"
    }
   ],
   "source": [
    "startups['country'].unique()"
   ]
  },
  {
   "cell_type": "code",
   "execution_count": 11,
   "id": "411bbc31",
   "metadata": {},
   "outputs": [
    {
     "data": {
      "text/plain": [
       "(47,)"
      ]
     },
     "execution_count": 11,
     "metadata": {},
     "output_type": "execute_result"
    }
   ],
   "source": [
    "startups['country'].unique().shape"
   ]
  },
  {
   "cell_type": "markdown",
   "id": "aac85e2e",
   "metadata": {},
   "source": [
    " <font color = '#0158e3'> *Видим, что некоторые значения стран идут с запятой после названия*"
   ]
  },
  {
   "cell_type": "code",
   "execution_count": 12,
   "id": "1117ba47",
   "metadata": {},
   "outputs": [
    {
     "data": {
      "text/plain": [
       "(45,)"
      ]
     },
     "execution_count": 12,
     "metadata": {},
     "output_type": "execute_result"
    }
   ],
   "source": [
    "startups['country'] = startups['country'].str.replace(',', '')\n",
    "startups['country'].unique().shape"
   ]
  },
  {
   "cell_type": "markdown",
   "id": "f6488e3c",
   "metadata": {},
   "source": [
    " <font color = '#0158e3'> *Уникальных значений стало меньше на 2, так как ошибки были в 'United States,' и 'Indonesia,'*"
   ]
  },
  {
   "cell_type": "code",
   "execution_count": 13,
   "id": "7c1dd0fa",
   "metadata": {
    "scrolled": true
   },
   "outputs": [
    {
     "data": {
      "text/plain": [
       "array(['Beijing', 'Hawthorne', 'San Francisco', 'Stockholm',\n",
       "       'Surry Hills', 'London', 'Sao Paulo', 'Cary', nan, 'Bengaluru',\n",
       "       'Shanghai', 'Jakarta', 'Jacksonville', 'Shenzhen', 'Philadelphia',\n",
       "       'Waltham', 'San Diego', 'Roseville', 'Munich', 'Luohe',\n",
       "       'Cheung Sha Wan', 'Walpole', 'New York', 'Boston', 'Glendale',\n",
       "       'Berlin', 'Kirkland', 'Gurugram', 'Lerma de Villada', 'Reading',\n",
       "       'Mountain View', 'San Jose', 'San Mateo', 'Chicago', 'Changsha',\n",
       "       'Mumbai', 'Irving', 'Vancouver', 'Istanbul', 'Santa Clara',\n",
       "       'Seoul', 'Pittsburgh', 'Palo Alto', 'Hangzhou', 'Amsterdam',\n",
       "       'Los Angeles', 'Tel Aviv', 'Hoboken', 'Brooklyn', 'Oakland',\n",
       "       'Fremont', 'Bogota', 'Brussels', 'Atlanta', 'Campinas',\n",
       "       'Melbourne', 'Irvine', 'Burlingame', 'Zhuhai', 'Vilnius',\n",
       "       'Seattle', 'Tallinn', 'Eden Prairie', 'Paris', 'Inglewood',\n",
       "       'Sunnyvale', 'Montreal', 'Vienna', 'Redwood City', 'El Segundo',\n",
       "       'Mississauga', 'Dublin', 'Columbus', 'Carlsbad', 'Los Altos',\n",
       "       'San Carlos', 'Detroit', 'Denver', 'Bend', 'Culver City',\n",
       "       'Carson City', 'Duderstadt', 'San Ramon', 'Miami',\n",
       "       'Englewood Cliffs', 'Guangzhou', 'Wuhan', 'Alameda', 'Nanjing',\n",
       "       'Houston', 'Peterborough', 'Gurgaon', 'Noida', 'Kitchener',\n",
       "       'Jersey City', 'Cambridge', 'South Jordan', 'Ho Chi Minh City',\n",
       "       'Westerville', 'Lehi', 'Austin', 'New Delhi', 'Chatham',\n",
       "       'Bellevue', 'South San Francisco', 'Bristol', 'Scottsdale',\n",
       "       'Raleigh', 'Chengdu', 'Louisville', 'Dubai', 'Schaffhausen',\n",
       "       'Faridabad', 'Thane', 'Burlington', 'Buenos Aires', 'Changzhou',\n",
       "       'Foster City', 'Madrid', 'Santa Monica', 'Louvain-la-Neuve',\n",
       "       'Unterfoehring', 'Mexico City', 'Pune', 'Kowloon', 'Tokyo',\n",
       "       'Somerville', 'Dallas', \"Giv'atayim\", 'Toronto', 'Leudelange',\n",
       "       'Goleta', 'Lagos', 'United States', 'Pennsauken', 'Plantation',\n",
       "       'Helsinki', 'Portola Valley', 'Taguig City', 'Netanya', 'Bethesda',\n",
       "       'Bangalore', 'Jerusalem', 'Tel Aviv-Yafo', 'Copenhagen', 'Dakar',\n",
       "       'Hanover', 'Norfolk', 'Chongqing', 'Hamilton', 'Burnaby', 'Sydney',\n",
       "       'Lysaker', 'Hayward', 'Bryanston', 'Hunan', 'Jiangsu',\n",
       "       'Northbrook', 'Boulder', 'McLean', 'Santa Barbara', 'Santiago',\n",
       "       'Richmond', 'Draper', 'Cincinnati', 'Zephyr Cove', 'Altrincham',\n",
       "       'Marina del Rey', 'Bangkok', 'Nashville', 'Hefei', 'Solihull',\n",
       "       'Chennai', 'Ambler', 'Pleasanton', 'Walnut',\n",
       "       'La Plaine Saint-Denis', 'Central', 'Framingham', 'Tirat Carmel',\n",
       "       'Selangor', 'Encinitas', 'Sherman Oaks', 'Aberdeen', 'Tsuruoka',\n",
       "       'Washington', 'Prague', 'Oslo', 'Princeton', 'Jaipur',\n",
       "       'Salt Lake City', 'Washington DC', 'Qingdao', 'Roubaix',\n",
       "       'Islandia', 'Prilly', 'Maharashtra', 'Crewe', 'Seongnam-Si',\n",
       "       'Fort Mill', 'Lausanne', 'Boca Raton', 'Midrand', 'Manila',\n",
       "       'Espoo', 'Wuxi', 'Tianjin', 'Charlotte', 'Osasco', 'Menlo Park',\n",
       "       'Evry', 'Guiyang', 'Leawood', 'Zurich', 'Curitiba', 'Dongguan',\n",
       "       'Barcelona', 'Vodnjan', 'Long Beach', 'Jeju-do', 'Englewood',\n",
       "       'Colorado Springs', 'Parana', \"Ra'anana\", 'Wilmington',\n",
       "       'Ramat Gan', 'Suzhou', 'Madison', 'Cedar Park', 'Berkeley Heights',\n",
       "       'Aarhus', 'Lincoln', 'Brisbane', 'Arlington', 'Montpellier',\n",
       "       'Bellingham', 'Herndon', 'Berkeley', 'Tampa', 'Alexandria'],\n",
       "      dtype=object)"
      ]
     },
     "execution_count": 13,
     "metadata": {},
     "output_type": "execute_result"
    }
   ],
   "source": [
    "startups['city'].unique()"
   ]
  },
  {
   "cell_type": "markdown",
   "id": "8a9cff90",
   "metadata": {},
   "source": [
    " <font color = '#0158e3'> *Видимых ошибок не обнаружено*"
   ]
  },
  {
   "cell_type": "code",
   "execution_count": 14,
   "id": "9a786b93",
   "metadata": {},
   "outputs": [
    {
     "data": {
      "text/plain": [
       "array(['Artificial intelligence', 'Other', 'Fintech',\n",
       "       'Internet software & services',\n",
       "       'Supply chain, logistics, & delivery',\n",
       "       'Data management & analytics', 'Edtech',\n",
       "       'E-commerce & direct-to-consumer', 'Hardware', 'Health',\n",
       "       'Consumer & retail', 'Auto & transportation', 'Finttech',\n",
       "       'Cybersecurity', 'Mobile & telecommunications', 'Travel',\n",
       "       'Artificial Intelligence'], dtype=object)"
      ]
     },
     "execution_count": 14,
     "metadata": {},
     "output_type": "execute_result"
    }
   ],
   "source": [
    "startups['industry'].unique()"
   ]
  },
  {
   "cell_type": "code",
   "execution_count": 15,
   "id": "86736bcc",
   "metadata": {},
   "outputs": [
    {
     "data": {
      "text/plain": [
       "(17,)"
      ]
     },
     "execution_count": 15,
     "metadata": {},
     "output_type": "execute_result"
    }
   ],
   "source": [
    "startups['industry'].unique().shape"
   ]
  },
  {
   "cell_type": "markdown",
   "id": "75698824",
   "metadata": {},
   "source": [
    " <font color = '#0158e3'> *Ошибки в 2 индустриях: 'Artificial intelligence' и 'Artificial Intelligence', 'Fintech' и 'Finttech'*"
   ]
  },
  {
   "cell_type": "code",
   "execution_count": 16,
   "id": "4fb4d609",
   "metadata": {},
   "outputs": [],
   "source": [
    "startups['industry'] = startups['industry'].apply(lambda x: 'Artificial Intelligence' if x == 'Artificial intelligence' else x)\n",
    "startups['industry'] = startups['industry'].apply(lambda x: 'Fintech' if x == 'Finttech' else x)"
   ]
  },
  {
   "cell_type": "code",
   "execution_count": 17,
   "id": "ef92780d",
   "metadata": {
    "scrolled": true
   },
   "outputs": [
    {
     "data": {
      "text/plain": [
       "(15,)"
      ]
     },
     "execution_count": 17,
     "metadata": {},
     "output_type": "execute_result"
    }
   ],
   "source": [
    "startups['industry'].unique().shape"
   ]
  },
  {
   "cell_type": "markdown",
   "id": "7e83ebb6",
   "metadata": {},
   "source": [
    " <font color = '#0158e3'> *После преобразования названий индустрий к одному виду, их число уникальных значений уменьшилось на 2, как и должно было произойти*"
   ]
  },
  {
   "cell_type": "markdown",
   "id": "121566a6",
   "metadata": {},
   "source": [
    " <font color = '#0158e3'> *Для удобства также переведем колонку industry в категориальный тип*"
   ]
  },
  {
   "cell_type": "code",
   "execution_count": 18,
   "id": "f60050df",
   "metadata": {},
   "outputs": [],
   "source": [
    "startups['industry'] = pd.Categorical(startups['industry'])"
   ]
  },
  {
   "cell_type": "code",
   "execution_count": 19,
   "id": "2c834262",
   "metadata": {},
   "outputs": [
    {
     "data": {
      "text/plain": [
       "company              object\n",
       "valuation           float64\n",
       "date         datetime64[ns]\n",
       "country              object\n",
       "city                 object\n",
       "industry           category\n",
       "investors            object\n",
       "dtype: object"
      ]
     },
     "execution_count": 19,
     "metadata": {},
     "output_type": "execute_result"
    }
   ],
   "source": [
    "startups.dtypes"
   ]
  },
  {
   "cell_type": "markdown",
   "id": "28baccff",
   "metadata": {},
   "source": [
    " <font color = '#0158e3'> *Проверили, что тип данных в колонке изменился*"
   ]
  },
  {
   "cell_type": "markdown",
   "id": "51c36e29",
   "metadata": {},
   "source": [
    " "
   ]
  },
  {
   "cell_type": "markdown",
   "id": "bcf90b5f",
   "metadata": {},
   "source": [
    "# <font color = '#f364a2'> Анализ данных об оценке стартапов"
   ]
  },
  {
   "cell_type": "markdown",
   "id": "ba234bb9",
   "metadata": {},
   "source": [
    "### №1 Вывод топ-10 стартапов по оценке "
   ]
  },
  {
   "cell_type": "markdown",
   "id": "ceddebba",
   "metadata": {},
   "source": [
    "#### В рамках этой задачи мы можем отсортировать оценку стартапов от большего к меньшему и затем напечатать первые 10 значений с помощью конкатенации и с помощью метода format"
   ]
  },
  {
   "cell_type": "code",
   "execution_count": 20,
   "id": "ac1645a2",
   "metadata": {},
   "outputs": [
    {
     "data": {
      "text/html": [
       "<div>\n",
       "<style scoped>\n",
       "    .dataframe tbody tr th:only-of-type {\n",
       "        vertical-align: middle;\n",
       "    }\n",
       "\n",
       "    .dataframe tbody tr th {\n",
       "        vertical-align: top;\n",
       "    }\n",
       "\n",
       "    .dataframe thead th {\n",
       "        text-align: right;\n",
       "    }\n",
       "</style>\n",
       "<table border=\"1\" class=\"dataframe\">\n",
       "  <thead>\n",
       "    <tr style=\"text-align: right;\">\n",
       "      <th></th>\n",
       "      <th>company</th>\n",
       "      <th>valuation</th>\n",
       "      <th>date</th>\n",
       "      <th>country</th>\n",
       "      <th>city</th>\n",
       "      <th>industry</th>\n",
       "      <th>investors</th>\n",
       "    </tr>\n",
       "  </thead>\n",
       "  <tbody>\n",
       "    <tr>\n",
       "      <th>0</th>\n",
       "      <td>Bytedance</td>\n",
       "      <td>140.0</td>\n",
       "      <td>2017-04-07</td>\n",
       "      <td>China</td>\n",
       "      <td>Beijing</td>\n",
       "      <td>Artificial Intelligence</td>\n",
       "      <td>0      Sequoia Capital China, SIG Asia Investm...</td>\n",
       "    </tr>\n",
       "    <tr>\n",
       "      <th>1</th>\n",
       "      <td>SpaceX</td>\n",
       "      <td>100.3</td>\n",
       "      <td>2012-12-01</td>\n",
       "      <td>United States</td>\n",
       "      <td>Hawthorne</td>\n",
       "      <td>Other</td>\n",
       "      <td>0      Sequoia Capital China, SIG Asia Investm...</td>\n",
       "    </tr>\n",
       "    <tr>\n",
       "      <th>2</th>\n",
       "      <td>Stripe</td>\n",
       "      <td>95.0</td>\n",
       "      <td>2014-01-23</td>\n",
       "      <td>United States</td>\n",
       "      <td>San Francisco</td>\n",
       "      <td>Fintech</td>\n",
       "      <td>0      Sequoia Capital China, SIG Asia Investm...</td>\n",
       "    </tr>\n",
       "    <tr>\n",
       "      <th>3</th>\n",
       "      <td>Klarna</td>\n",
       "      <td>45.6</td>\n",
       "      <td>2011-12-12</td>\n",
       "      <td>Sweden</td>\n",
       "      <td>Stockholm</td>\n",
       "      <td>Fintech</td>\n",
       "      <td>0      Sequoia Capital China, SIG Asia Investm...</td>\n",
       "    </tr>\n",
       "    <tr>\n",
       "      <th>4</th>\n",
       "      <td>Canva</td>\n",
       "      <td>40.0</td>\n",
       "      <td>2018-01-08</td>\n",
       "      <td>Australia</td>\n",
       "      <td>Surry Hills</td>\n",
       "      <td>Internet software &amp; services</td>\n",
       "      <td>0      Sequoia Capital China, SIG Asia Investm...</td>\n",
       "    </tr>\n",
       "    <tr>\n",
       "      <th>5</th>\n",
       "      <td>Instacart</td>\n",
       "      <td>39.0</td>\n",
       "      <td>2014-12-30</td>\n",
       "      <td>United States</td>\n",
       "      <td>San Francisco</td>\n",
       "      <td>Supply chain, logistics, &amp; delivery</td>\n",
       "      <td>0      Sequoia Capital China, SIG Asia Investm...</td>\n",
       "    </tr>\n",
       "    <tr>\n",
       "      <th>6</th>\n",
       "      <td>Databricks</td>\n",
       "      <td>38.0</td>\n",
       "      <td>2019-02-05</td>\n",
       "      <td>United States</td>\n",
       "      <td>San Francisco</td>\n",
       "      <td>Data management &amp; analytics</td>\n",
       "      <td>0      Sequoia Capital China, SIG Asia Investm...</td>\n",
       "    </tr>\n",
       "    <tr>\n",
       "      <th>7</th>\n",
       "      <td>Revolut</td>\n",
       "      <td>33.0</td>\n",
       "      <td>2018-04-26</td>\n",
       "      <td>United Kingdom</td>\n",
       "      <td>London</td>\n",
       "      <td>Fintech</td>\n",
       "      <td>0      Sequoia Capital China, SIG Asia Investm...</td>\n",
       "    </tr>\n",
       "    <tr>\n",
       "      <th>8</th>\n",
       "      <td>Nubank</td>\n",
       "      <td>30.0</td>\n",
       "      <td>2018-03-01</td>\n",
       "      <td>Brazil</td>\n",
       "      <td>Sao Paulo</td>\n",
       "      <td>Fintech</td>\n",
       "      <td>0      Sequoia Capital China, SIG Asia Investm...</td>\n",
       "    </tr>\n",
       "    <tr>\n",
       "      <th>9</th>\n",
       "      <td>Epic Games</td>\n",
       "      <td>28.7</td>\n",
       "      <td>2018-10-26</td>\n",
       "      <td>United States</td>\n",
       "      <td>Cary</td>\n",
       "      <td>Other</td>\n",
       "      <td>0      Sequoia Capital China, SIG Asia Investm...</td>\n",
       "    </tr>\n",
       "  </tbody>\n",
       "</table>\n",
       "</div>"
      ],
      "text/plain": [
       "      company  valuation       date         country           city  \\\n",
       "0   Bytedance      140.0 2017-04-07           China        Beijing   \n",
       "1      SpaceX      100.3 2012-12-01   United States      Hawthorne   \n",
       "2      Stripe       95.0 2014-01-23   United States  San Francisco   \n",
       "3      Klarna       45.6 2011-12-12          Sweden      Stockholm   \n",
       "4       Canva       40.0 2018-01-08       Australia    Surry Hills   \n",
       "5   Instacart       39.0 2014-12-30   United States  San Francisco   \n",
       "6  Databricks       38.0 2019-02-05   United States  San Francisco   \n",
       "7     Revolut       33.0 2018-04-26  United Kingdom         London   \n",
       "8      Nubank       30.0 2018-03-01          Brazil      Sao Paulo   \n",
       "9  Epic Games       28.7 2018-10-26   United States           Cary   \n",
       "\n",
       "                              industry  \\\n",
       "0              Artificial Intelligence   \n",
       "1                                Other   \n",
       "2                              Fintech   \n",
       "3                              Fintech   \n",
       "4         Internet software & services   \n",
       "5  Supply chain, logistics, & delivery   \n",
       "6          Data management & analytics   \n",
       "7                              Fintech   \n",
       "8                              Fintech   \n",
       "9                                Other   \n",
       "\n",
       "                                           investors  \n",
       "0  0      Sequoia Capital China, SIG Asia Investm...  \n",
       "1  0      Sequoia Capital China, SIG Asia Investm...  \n",
       "2  0      Sequoia Capital China, SIG Asia Investm...  \n",
       "3  0      Sequoia Capital China, SIG Asia Investm...  \n",
       "4  0      Sequoia Capital China, SIG Asia Investm...  \n",
       "5  0      Sequoia Capital China, SIG Asia Investm...  \n",
       "6  0      Sequoia Capital China, SIG Asia Investm...  \n",
       "7  0      Sequoia Capital China, SIG Asia Investm...  \n",
       "8  0      Sequoia Capital China, SIG Asia Investm...  \n",
       "9  0      Sequoia Capital China, SIG Asia Investm...  "
      ]
     },
     "execution_count": 20,
     "metadata": {},
     "output_type": "execute_result"
    }
   ],
   "source": [
    "startups.sort_values(by = ['valuation'], ascending = False)[:10]"
   ]
  },
  {
   "cell_type": "code",
   "execution_count": 21,
   "id": "a64d2f58",
   "metadata": {},
   "outputs": [
    {
     "name": "stdout",
     "output_type": "stream",
     "text": [
      "Компания Bytedance имеет оценку 140.0 и входит в ТОП-10 дорогих стартапов\n",
      "Компания SpaceX имеет оценку 100.3 и входит в ТОП-10 дорогих стартапов\n",
      "Компания Stripe имеет оценку 95.0 и входит в ТОП-10 дорогих стартапов\n",
      "Компания Klarna имеет оценку 45.6 и входит в ТОП-10 дорогих стартапов\n",
      "Компания Canva имеет оценку 40.0 и входит в ТОП-10 дорогих стартапов\n",
      "Компания Instacart имеет оценку 39.0 и входит в ТОП-10 дорогих стартапов\n",
      "Компания Databricks имеет оценку 38.0 и входит в ТОП-10 дорогих стартапов\n",
      "Компания Revolut имеет оценку 33.0 и входит в ТОП-10 дорогих стартапов\n",
      "Компания Nubank имеет оценку 30.0 и входит в ТОП-10 дорогих стартапов\n",
      "Компания Epic Games имеет оценку 28.7 и входит в ТОП-10 дорогих стартапов\n"
     ]
    }
   ],
   "source": [
    "for i in range(10):\n",
    "    print('Компания ' + startups.loc[i, 'company'] + ' имеет оценку ' + str(startups.loc[i, 'valuation']) + ' и входит в ТОП-10 дорогих стартапов')"
   ]
  },
  {
   "cell_type": "code",
   "execution_count": 22,
   "id": "3d653639",
   "metadata": {},
   "outputs": [
    {
     "name": "stdout",
     "output_type": "stream",
     "text": [
      "Компания Bytedance имеет оценку 140.0 и выходит в ТОП-10 дорогих стартапов\n",
      "Компания SpaceX имеет оценку 100.3 и выходит в ТОП-10 дорогих стартапов\n",
      "Компания Stripe имеет оценку 95.0 и выходит в ТОП-10 дорогих стартапов\n",
      "Компания Klarna имеет оценку 45.6 и выходит в ТОП-10 дорогих стартапов\n",
      "Компания Canva имеет оценку 40.0 и выходит в ТОП-10 дорогих стартапов\n",
      "Компания Instacart имеет оценку 39.0 и выходит в ТОП-10 дорогих стартапов\n",
      "Компания Databricks имеет оценку 38.0 и выходит в ТОП-10 дорогих стартапов\n",
      "Компания Revolut имеет оценку 33.0 и выходит в ТОП-10 дорогих стартапов\n",
      "Компания Nubank имеет оценку 30.0 и выходит в ТОП-10 дорогих стартапов\n",
      "Компания Epic Games имеет оценку 28.7 и выходит в ТОП-10 дорогих стартапов\n"
     ]
    }
   ],
   "source": [
    "for i in range(10):\n",
    "    print ('Компания {} имеет оценку {} и выходит в ТОП-10 дорогих стартапов'.format (startups.loc[i, 'company'], startups.loc[i, 'valuation']))"
   ]
  },
  {
   "cell_type": "markdown",
   "id": "8d6faafd",
   "metadata": {},
   "source": [
    "### №2 Самый дорогой и самый дешевый стартап"
   ]
  },
  {
   "cell_type": "code",
   "execution_count": 23,
   "id": "5798da56",
   "metadata": {},
   "outputs": [
    {
     "data": {
      "text/html": [
       "<div>\n",
       "<style scoped>\n",
       "    .dataframe tbody tr th:only-of-type {\n",
       "        vertical-align: middle;\n",
       "    }\n",
       "\n",
       "    .dataframe tbody tr th {\n",
       "        vertical-align: top;\n",
       "    }\n",
       "\n",
       "    .dataframe thead th {\n",
       "        text-align: right;\n",
       "    }\n",
       "</style>\n",
       "<table border=\"1\" class=\"dataframe\">\n",
       "  <thead>\n",
       "    <tr style=\"text-align: right;\">\n",
       "      <th></th>\n",
       "      <th>company</th>\n",
       "      <th>valuation</th>\n",
       "      <th>date</th>\n",
       "      <th>country</th>\n",
       "      <th>city</th>\n",
       "      <th>industry</th>\n",
       "      <th>investors</th>\n",
       "    </tr>\n",
       "  </thead>\n",
       "  <tbody>\n",
       "    <tr>\n",
       "      <th>0</th>\n",
       "      <td>Bytedance</td>\n",
       "      <td>140.0</td>\n",
       "      <td>2017-04-07</td>\n",
       "      <td>China</td>\n",
       "      <td>Beijing</td>\n",
       "      <td>Artificial Intelligence</td>\n",
       "      <td>0      Sequoia Capital China, SIG Asia Investm...</td>\n",
       "    </tr>\n",
       "  </tbody>\n",
       "</table>\n",
       "</div>"
      ],
      "text/plain": [
       "     company  valuation       date country     city                 industry  \\\n",
       "0  Bytedance      140.0 2017-04-07   China  Beijing  Artificial Intelligence   \n",
       "\n",
       "                                           investors  \n",
       "0  0      Sequoia Capital China, SIG Asia Investm...  "
      ]
     },
     "execution_count": 23,
     "metadata": {},
     "output_type": "execute_result"
    }
   ],
   "source": [
    "startups[startups['valuation'] == startups['valuation'].max()]"
   ]
  },
  {
   "cell_type": "code",
   "execution_count": 24,
   "id": "f8e9a29e",
   "metadata": {},
   "outputs": [
    {
     "data": {
      "text/html": [
       "<div>\n",
       "<style scoped>\n",
       "    .dataframe tbody tr th:only-of-type {\n",
       "        vertical-align: middle;\n",
       "    }\n",
       "\n",
       "    .dataframe tbody tr th {\n",
       "        vertical-align: top;\n",
       "    }\n",
       "\n",
       "    .dataframe thead th {\n",
       "        text-align: right;\n",
       "    }\n",
       "</style>\n",
       "<table border=\"1\" class=\"dataframe\">\n",
       "  <thead>\n",
       "    <tr style=\"text-align: right;\">\n",
       "      <th></th>\n",
       "      <th>company</th>\n",
       "      <th>valuation</th>\n",
       "      <th>date</th>\n",
       "      <th>country</th>\n",
       "      <th>city</th>\n",
       "      <th>industry</th>\n",
       "      <th>investors</th>\n",
       "    </tr>\n",
       "  </thead>\n",
       "  <tbody>\n",
       "    <tr>\n",
       "      <th>679</th>\n",
       "      <td>Hailo</td>\n",
       "      <td>1.0</td>\n",
       "      <td>2021-06-23</td>\n",
       "      <td>Israel</td>\n",
       "      <td>Tel Aviv</td>\n",
       "      <td>Artificial Intelligence</td>\n",
       "      <td>0      Sequoia Capital China, SIG Asia Investm...</td>\n",
       "    </tr>\n",
       "    <tr>\n",
       "      <th>706</th>\n",
       "      <td>Lookout</td>\n",
       "      <td>1.0</td>\n",
       "      <td>2013-10-10</td>\n",
       "      <td>United States</td>\n",
       "      <td>San Francisco</td>\n",
       "      <td>Cybersecurity</td>\n",
       "      <td>0      Sequoia Capital China, SIG Asia Investm...</td>\n",
       "    </tr>\n",
       "    <tr>\n",
       "      <th>707</th>\n",
       "      <td>Snapdeal</td>\n",
       "      <td>1.0</td>\n",
       "      <td>2014-05-21</td>\n",
       "      <td>India</td>\n",
       "      <td>New Delhi</td>\n",
       "      <td>E-commerce &amp; direct-to-consumer</td>\n",
       "      <td>0      Sequoia Capital China, SIG Asia Investm...</td>\n",
       "    </tr>\n",
       "    <tr>\n",
       "      <th>708</th>\n",
       "      <td>TechStyle Fashion Group</td>\n",
       "      <td>1.0</td>\n",
       "      <td>2014-08-29</td>\n",
       "      <td>United States</td>\n",
       "      <td>El Segundo</td>\n",
       "      <td>E-commerce &amp; direct-to-consumer</td>\n",
       "      <td>0      Sequoia Capital China, SIG Asia Investm...</td>\n",
       "    </tr>\n",
       "    <tr>\n",
       "      <th>709</th>\n",
       "      <td>InMobi</td>\n",
       "      <td>1.0</td>\n",
       "      <td>2014-12-02</td>\n",
       "      <td>India</td>\n",
       "      <td>Bengaluru</td>\n",
       "      <td>Mobile &amp; telecommunications</td>\n",
       "      <td>0      Sequoia Capital China, SIG Asia Investm...</td>\n",
       "    </tr>\n",
       "    <tr>\n",
       "      <th>...</th>\n",
       "      <td>...</td>\n",
       "      <td>...</td>\n",
       "      <td>...</td>\n",
       "      <td>...</td>\n",
       "      <td>...</td>\n",
       "      <td>...</td>\n",
       "      <td>...</td>\n",
       "    </tr>\n",
       "    <tr>\n",
       "      <th>931</th>\n",
       "      <td>YipitData</td>\n",
       "      <td>1.0</td>\n",
       "      <td>2021-12-06</td>\n",
       "      <td>United States</td>\n",
       "      <td>New York</td>\n",
       "      <td>Internet software &amp; services</td>\n",
       "      <td>0      Sequoia Capital China, SIG Asia Investm...</td>\n",
       "    </tr>\n",
       "    <tr>\n",
       "      <th>932</th>\n",
       "      <td>Anyscale</td>\n",
       "      <td>1.0</td>\n",
       "      <td>2021-12-07</td>\n",
       "      <td>United States</td>\n",
       "      <td>Berkeley</td>\n",
       "      <td>Artificial Intelligence</td>\n",
       "      <td>0      Sequoia Capital China, SIG Asia Investm...</td>\n",
       "    </tr>\n",
       "    <tr>\n",
       "      <th>933</th>\n",
       "      <td>Iodine Software</td>\n",
       "      <td>1.0</td>\n",
       "      <td>2021-12-01</td>\n",
       "      <td>United States</td>\n",
       "      <td>Austin</td>\n",
       "      <td>Data management &amp; analytics</td>\n",
       "      <td>0      Sequoia Capital China, SIG Asia Investm...</td>\n",
       "    </tr>\n",
       "    <tr>\n",
       "      <th>934</th>\n",
       "      <td>ReliaQuest</td>\n",
       "      <td>1.0</td>\n",
       "      <td>2021-12-01</td>\n",
       "      <td>United States</td>\n",
       "      <td>Tampa</td>\n",
       "      <td>Cybersecurity</td>\n",
       "      <td>0      Sequoia Capital China, SIG Asia Investm...</td>\n",
       "    </tr>\n",
       "    <tr>\n",
       "      <th>935</th>\n",
       "      <td>Pet Circle</td>\n",
       "      <td>1.0</td>\n",
       "      <td>2021-12-07</td>\n",
       "      <td>Australia</td>\n",
       "      <td>Alexandria</td>\n",
       "      <td>E-commerce &amp; direct-to-consumer</td>\n",
       "      <td>0      Sequoia Capital China, SIG Asia Investm...</td>\n",
       "    </tr>\n",
       "  </tbody>\n",
       "</table>\n",
       "<p>225 rows × 7 columns</p>\n",
       "</div>"
      ],
      "text/plain": [
       "                     company  valuation       date        country  \\\n",
       "679                    Hailo        1.0 2021-06-23         Israel   \n",
       "706                  Lookout        1.0 2013-10-10  United States   \n",
       "707                 Snapdeal        1.0 2014-05-21          India   \n",
       "708  TechStyle Fashion Group        1.0 2014-08-29  United States   \n",
       "709                   InMobi        1.0 2014-12-02          India   \n",
       "..                       ...        ...        ...            ...   \n",
       "931                YipitData        1.0 2021-12-06  United States   \n",
       "932                 Anyscale        1.0 2021-12-07  United States   \n",
       "933          Iodine Software        1.0 2021-12-01  United States   \n",
       "934               ReliaQuest        1.0 2021-12-01  United States   \n",
       "935               Pet Circle        1.0 2021-12-07      Australia   \n",
       "\n",
       "              city                         industry  \\\n",
       "679       Tel Aviv          Artificial Intelligence   \n",
       "706  San Francisco                    Cybersecurity   \n",
       "707      New Delhi  E-commerce & direct-to-consumer   \n",
       "708     El Segundo  E-commerce & direct-to-consumer   \n",
       "709      Bengaluru      Mobile & telecommunications   \n",
       "..             ...                              ...   \n",
       "931       New York     Internet software & services   \n",
       "932       Berkeley          Artificial Intelligence   \n",
       "933         Austin      Data management & analytics   \n",
       "934          Tampa                    Cybersecurity   \n",
       "935     Alexandria  E-commerce & direct-to-consumer   \n",
       "\n",
       "                                             investors  \n",
       "679  0      Sequoia Capital China, SIG Asia Investm...  \n",
       "706  0      Sequoia Capital China, SIG Asia Investm...  \n",
       "707  0      Sequoia Capital China, SIG Asia Investm...  \n",
       "708  0      Sequoia Capital China, SIG Asia Investm...  \n",
       "709  0      Sequoia Capital China, SIG Asia Investm...  \n",
       "..                                                 ...  \n",
       "931  0      Sequoia Capital China, SIG Asia Investm...  \n",
       "932  0      Sequoia Capital China, SIG Asia Investm...  \n",
       "933  0      Sequoia Capital China, SIG Asia Investm...  \n",
       "934  0      Sequoia Capital China, SIG Asia Investm...  \n",
       "935  0      Sequoia Capital China, SIG Asia Investm...  \n",
       "\n",
       "[225 rows x 7 columns]"
      ]
     },
     "execution_count": 24,
     "metadata": {},
     "output_type": "execute_result"
    }
   ],
   "source": [
    "startups[startups['valuation'] == startups['valuation'].min()]"
   ]
  },
  {
   "cell_type": "markdown",
   "id": "208e6004",
   "metadata": {},
   "source": [
    " <font color = '#0158e3'> *Как мы видим, у нас один стартап с максимальной оценкой 140 и при этом 225 стартапов с минимальной оценкой 1.* <br>\n",
    "  *Посмотрим среднюю и медианную стоимость стартапов и моду*"
   ]
  },
  {
   "cell_type": "markdown",
   "id": "d54dc01a",
   "metadata": {},
   "source": [
    "### №3 Средняя, медианная стоимость стартапов и мода "
   ]
  },
  {
   "cell_type": "markdown",
   "id": "fd856448",
   "metadata": {},
   "source": [
    "#### Можем сделать это через метод describe, а можем через отдельные методы:"
   ]
  },
  {
   "cell_type": "code",
   "execution_count": 25,
   "id": "f23fd3f4",
   "metadata": {},
   "outputs": [
    {
     "data": {
      "text/plain": [
       "count    936.000000\n",
       "mean       3.281154\n",
       "std        7.473179\n",
       "min        1.000000\n",
       "25%        1.050000\n",
       "50%        1.600000\n",
       "75%        3.000000\n",
       "max      140.000000\n",
       "Name: valuation, dtype: float64"
      ]
     },
     "execution_count": 25,
     "metadata": {},
     "output_type": "execute_result"
    }
   ],
   "source": [
    "startups['valuation'].describe()"
   ]
  },
  {
   "cell_type": "code",
   "execution_count": 26,
   "id": "697c8fa2",
   "metadata": {},
   "outputs": [
    {
     "data": {
      "text/plain": [
       "3.281153846153838"
      ]
     },
     "execution_count": 26,
     "metadata": {},
     "output_type": "execute_result"
    }
   ],
   "source": [
    "startups['valuation'].mean()"
   ]
  },
  {
   "cell_type": "code",
   "execution_count": 27,
   "id": "017784e7",
   "metadata": {},
   "outputs": [
    {
     "data": {
      "text/plain": [
       "1.6"
      ]
     },
     "execution_count": 27,
     "metadata": {},
     "output_type": "execute_result"
    }
   ],
   "source": [
    "startups['valuation'].median()"
   ]
  },
  {
   "cell_type": "code",
   "execution_count": 28,
   "id": "323ccc51",
   "metadata": {},
   "outputs": [
    {
     "data": {
      "text/plain": [
       "0    1.0\n",
       "Name: valuation, dtype: float64"
      ]
     },
     "execution_count": 28,
     "metadata": {},
     "output_type": "execute_result"
    }
   ],
   "source": [
    "startups['valuation'].mode()"
   ]
  },
  {
   "cell_type": "code",
   "execution_count": 29,
   "id": "1e59a5b9",
   "metadata": {},
   "outputs": [
    {
     "data": {
      "image/png": "[encoded data removed]",
      "text/plain": [
       "<Figure size 432x288 with 1 Axes>"
      ]
     },
     "metadata": {
      "needs_background": "light"
     },
     "output_type": "display_data"
    }
   ],
   "source": [
    "startups['valuation'].hist(bins = 50, color = '#FF69B4')\n",
    "plt.xlabel('Оценка стартапа')\n",
    "plt.ylabel('Частота встречаний оценки')\n",
    "plt.title('Распределение значений оценок стартапов')\n",
    "plt.show()"
   ]
  },
  {
   "cell_type": "code",
   "execution_count": 30,
   "id": "353c6bcc",
   "metadata": {},
   "outputs": [
    {
     "data": {
      "image/png": "[encoded data removed]",
      "text/plain": [
       "<Figure size 1080x360 with 1 Axes>"
      ]
     },
     "metadata": {
      "needs_background": "light"
     },
     "output_type": "display_data"
    }
   ],
   "source": [
    "fig, ax = plt.subplots(1, 1, sharex=True, figsize=(15,5))\n",
    "sns.violinplot(x='valuation', data=startups, color = '#FF69B4')\n",
    "plt.xlabel('Оценка стартапа')\n",
    "plt.title('Скрипичная диаграмма для переменной оценка стартапа')\n",
    "plt.show()"
   ]
  },
  {
   "cell_type": "markdown",
   "id": "bf4c592b",
   "metadata": {},
   "source": [
    " <font color = '#0158e3'> *Исходя из гистограммы и скрипичной диаграммы, значений среднего, медианы и моды можем сделать вывод, что присутствуют аномально высокие значения стоимости стартапов, которые являются выбросами*"
   ]
  },
  {
   "cell_type": "markdown",
   "id": "a11b7f48",
   "metadata": {},
   "source": [
    "### №4 Поиск выбросов методом 3 сигм"
   ]
  },
  {
   "cell_type": "code",
   "execution_count": 31,
   "id": "c2a9f506",
   "metadata": {},
   "outputs": [],
   "source": [
    "upper_level = startups['valuation'].mean() + 3 * startups['valuation'].std()\n",
    "lower_level = startups['valuation'].mean() - 3 * startups['valuation'].std()"
   ]
  },
  {
   "cell_type": "code",
   "execution_count": 32,
   "id": "64d9083a",
   "metadata": {},
   "outputs": [
    {
     "data": {
      "text/plain": [
       "25.700690217509536"
      ]
     },
     "execution_count": 32,
     "metadata": {},
     "output_type": "execute_result"
    }
   ],
   "source": [
    "upper_level"
   ]
  },
  {
   "cell_type": "code",
   "execution_count": 33,
   "id": "2084d94a",
   "metadata": {},
   "outputs": [
    {
     "data": {
      "text/plain": [
       "-19.13838252520186"
      ]
     },
     "execution_count": 33,
     "metadata": {},
     "output_type": "execute_result"
    }
   ],
   "source": [
    "lower_level"
   ]
  },
  {
   "cell_type": "code",
   "execution_count": 34,
   "id": "8b70704a",
   "metadata": {},
   "outputs": [
    {
     "data": {
      "image/png": "[encoded data removed]",
      "text/plain": [
       "<Figure size 360x360 with 1 Axes>"
      ]
     },
     "metadata": {
      "needs_background": "light"
     },
     "output_type": "display_data"
    }
   ],
   "source": [
    "sns.displot(startups['valuation'], color = '#87CEFA')\n",
    "plt.axvline(x = upper_level, color = '#32CD32', linestyle = '-')\n",
    "plt.axvline(x = lower_level, color = '#DC143C', linestyle = '-')\n",
    "plt.title('Аномальные значения оценки стартапов')\n",
    "plt.show()"
   ]
  },
  {
   "cell_type": "code",
   "execution_count": 35,
   "id": "f80be3df",
   "metadata": {},
   "outputs": [
    {
     "data": {
      "text/html": [
       "<div>\n",
       "<style scoped>\n",
       "    .dataframe tbody tr th:only-of-type {\n",
       "        vertical-align: middle;\n",
       "    }\n",
       "\n",
       "    .dataframe tbody tr th {\n",
       "        vertical-align: top;\n",
       "    }\n",
       "\n",
       "    .dataframe thead th {\n",
       "        text-align: right;\n",
       "    }\n",
       "</style>\n",
       "<table border=\"1\" class=\"dataframe\">\n",
       "  <thead>\n",
       "    <tr style=\"text-align: right;\">\n",
       "      <th></th>\n",
       "      <th>company</th>\n",
       "      <th>valuation</th>\n",
       "      <th>date</th>\n",
       "      <th>country</th>\n",
       "      <th>city</th>\n",
       "      <th>industry</th>\n",
       "      <th>investors</th>\n",
       "    </tr>\n",
       "  </thead>\n",
       "  <tbody>\n",
       "    <tr>\n",
       "      <th>0</th>\n",
       "      <td>Bytedance</td>\n",
       "      <td>140.0</td>\n",
       "      <td>2017-04-07</td>\n",
       "      <td>China</td>\n",
       "      <td>Beijing</td>\n",
       "      <td>Artificial Intelligence</td>\n",
       "      <td>0      Sequoia Capital China, SIG Asia Investm...</td>\n",
       "    </tr>\n",
       "    <tr>\n",
       "      <th>1</th>\n",
       "      <td>SpaceX</td>\n",
       "      <td>100.3</td>\n",
       "      <td>2012-12-01</td>\n",
       "      <td>United States</td>\n",
       "      <td>Hawthorne</td>\n",
       "      <td>Other</td>\n",
       "      <td>0      Sequoia Capital China, SIG Asia Investm...</td>\n",
       "    </tr>\n",
       "    <tr>\n",
       "      <th>2</th>\n",
       "      <td>Stripe</td>\n",
       "      <td>95.0</td>\n",
       "      <td>2014-01-23</td>\n",
       "      <td>United States</td>\n",
       "      <td>San Francisco</td>\n",
       "      <td>Fintech</td>\n",
       "      <td>0      Sequoia Capital China, SIG Asia Investm...</td>\n",
       "    </tr>\n",
       "    <tr>\n",
       "      <th>3</th>\n",
       "      <td>Klarna</td>\n",
       "      <td>45.6</td>\n",
       "      <td>2011-12-12</td>\n",
       "      <td>Sweden</td>\n",
       "      <td>Stockholm</td>\n",
       "      <td>Fintech</td>\n",
       "      <td>0      Sequoia Capital China, SIG Asia Investm...</td>\n",
       "    </tr>\n",
       "    <tr>\n",
       "      <th>4</th>\n",
       "      <td>Canva</td>\n",
       "      <td>40.0</td>\n",
       "      <td>2018-01-08</td>\n",
       "      <td>Australia</td>\n",
       "      <td>Surry Hills</td>\n",
       "      <td>Internet software &amp; services</td>\n",
       "      <td>0      Sequoia Capital China, SIG Asia Investm...</td>\n",
       "    </tr>\n",
       "    <tr>\n",
       "      <th>5</th>\n",
       "      <td>Instacart</td>\n",
       "      <td>39.0</td>\n",
       "      <td>2014-12-30</td>\n",
       "      <td>United States</td>\n",
       "      <td>San Francisco</td>\n",
       "      <td>Supply chain, logistics, &amp; delivery</td>\n",
       "      <td>0      Sequoia Capital China, SIG Asia Investm...</td>\n",
       "    </tr>\n",
       "    <tr>\n",
       "      <th>6</th>\n",
       "      <td>Databricks</td>\n",
       "      <td>38.0</td>\n",
       "      <td>2019-02-05</td>\n",
       "      <td>United States</td>\n",
       "      <td>San Francisco</td>\n",
       "      <td>Data management &amp; analytics</td>\n",
       "      <td>0      Sequoia Capital China, SIG Asia Investm...</td>\n",
       "    </tr>\n",
       "    <tr>\n",
       "      <th>7</th>\n",
       "      <td>Revolut</td>\n",
       "      <td>33.0</td>\n",
       "      <td>2018-04-26</td>\n",
       "      <td>United Kingdom</td>\n",
       "      <td>London</td>\n",
       "      <td>Fintech</td>\n",
       "      <td>0      Sequoia Capital China, SIG Asia Investm...</td>\n",
       "    </tr>\n",
       "    <tr>\n",
       "      <th>8</th>\n",
       "      <td>Nubank</td>\n",
       "      <td>30.0</td>\n",
       "      <td>2018-03-01</td>\n",
       "      <td>Brazil</td>\n",
       "      <td>Sao Paulo</td>\n",
       "      <td>Fintech</td>\n",
       "      <td>0      Sequoia Capital China, SIG Asia Investm...</td>\n",
       "    </tr>\n",
       "    <tr>\n",
       "      <th>9</th>\n",
       "      <td>Epic Games</td>\n",
       "      <td>28.7</td>\n",
       "      <td>2018-10-26</td>\n",
       "      <td>United States</td>\n",
       "      <td>Cary</td>\n",
       "      <td>Other</td>\n",
       "      <td>0      Sequoia Capital China, SIG Asia Investm...</td>\n",
       "    </tr>\n",
       "  </tbody>\n",
       "</table>\n",
       "</div>"
      ],
      "text/plain": [
       "      company  valuation       date         country           city  \\\n",
       "0   Bytedance      140.0 2017-04-07           China        Beijing   \n",
       "1      SpaceX      100.3 2012-12-01   United States      Hawthorne   \n",
       "2      Stripe       95.0 2014-01-23   United States  San Francisco   \n",
       "3      Klarna       45.6 2011-12-12          Sweden      Stockholm   \n",
       "4       Canva       40.0 2018-01-08       Australia    Surry Hills   \n",
       "5   Instacart       39.0 2014-12-30   United States  San Francisco   \n",
       "6  Databricks       38.0 2019-02-05   United States  San Francisco   \n",
       "7     Revolut       33.0 2018-04-26  United Kingdom         London   \n",
       "8      Nubank       30.0 2018-03-01          Brazil      Sao Paulo   \n",
       "9  Epic Games       28.7 2018-10-26   United States           Cary   \n",
       "\n",
       "                              industry  \\\n",
       "0              Artificial Intelligence   \n",
       "1                                Other   \n",
       "2                              Fintech   \n",
       "3                              Fintech   \n",
       "4         Internet software & services   \n",
       "5  Supply chain, logistics, & delivery   \n",
       "6          Data management & analytics   \n",
       "7                              Fintech   \n",
       "8                              Fintech   \n",
       "9                                Other   \n",
       "\n",
       "                                           investors  \n",
       "0  0      Sequoia Capital China, SIG Asia Investm...  \n",
       "1  0      Sequoia Capital China, SIG Asia Investm...  \n",
       "2  0      Sequoia Capital China, SIG Asia Investm...  \n",
       "3  0      Sequoia Capital China, SIG Asia Investm...  \n",
       "4  0      Sequoia Capital China, SIG Asia Investm...  \n",
       "5  0      Sequoia Capital China, SIG Asia Investm...  \n",
       "6  0      Sequoia Capital China, SIG Asia Investm...  \n",
       "7  0      Sequoia Capital China, SIG Asia Investm...  \n",
       "8  0      Sequoia Capital China, SIG Asia Investm...  \n",
       "9  0      Sequoia Capital China, SIG Asia Investm...  "
      ]
     },
     "execution_count": 35,
     "metadata": {},
     "output_type": "execute_result"
    }
   ],
   "source": [
    "startups[startups['valuation'] > upper_level]"
   ]
  },
  {
   "cell_type": "code",
   "execution_count": 36,
   "id": "a6075ba7",
   "metadata": {},
   "outputs": [
    {
     "data": {
      "text/plain": [
       "industry\n",
       "Fintech                                4\n",
       "Other                                  2\n",
       "Artificial Intelligence                1\n",
       "Data management & analytics            1\n",
       "Internet software & services           1\n",
       "Supply chain, logistics, & delivery    1\n",
       "Auto & transportation                  0\n",
       "Consumer & retail                      0\n",
       "Cybersecurity                          0\n",
       "E-commerce & direct-to-consumer        0\n",
       "Edtech                                 0\n",
       "Hardware                               0\n",
       "Health                                 0\n",
       "Mobile & telecommunications            0\n",
       "Travel                                 0\n",
       "dtype: int64"
      ]
     },
     "execution_count": 36,
     "metadata": {},
     "output_type": "execute_result"
    }
   ],
   "source": [
    "startups[startups['valuation'] > upper_level].value_counts('industry')"
   ]
  },
  {
   "cell_type": "markdown",
   "id": "941e4148",
   "metadata": {},
   "source": [
    " <font color = '#0158e3'> *Таким образом, используя правило 3 сигм, мы нашли аномально высокие значения стоимости стартапов, которые лежат за пределами 3 сигм от математического ожидания и выходят за 99,7% значений.*\n",
    "    <br> *Таких стартапов 10: Bytedance, SpaceX, Stripe, Klarna, Canva, Instacart, Databricks, Revolut, Nubank, Epic Games и 40% из них пренадлежат Финтех сектору*\n",
    "    <br> *Аномально низких значений у нас нет, так как нижняя граница -19, а стоимость всех стартапов положительная.*\n",
    "    <br> *Можем посмотреть, как изменятся значения описательной статистики, если убрать выбросы*"
   ]
  },
  {
   "cell_type": "markdown",
   "id": "4b95674b",
   "metadata": {},
   "source": [
    "### №5 Описательная статистика данных без выбросов"
   ]
  },
  {
   "cell_type": "code",
   "execution_count": 37,
   "id": "30379dd8",
   "metadata": {},
   "outputs": [
    {
     "data": {
      "text/html": [
       "<div>\n",
       "<style scoped>\n",
       "    .dataframe tbody tr th:only-of-type {\n",
       "        vertical-align: middle;\n",
       "    }\n",
       "\n",
       "    .dataframe tbody tr th {\n",
       "        vertical-align: top;\n",
       "    }\n",
       "\n",
       "    .dataframe thead th {\n",
       "        text-align: right;\n",
       "    }\n",
       "</style>\n",
       "<table border=\"1\" class=\"dataframe\">\n",
       "  <thead>\n",
       "    <tr style=\"text-align: right;\">\n",
       "      <th></th>\n",
       "      <th>company</th>\n",
       "      <th>valuation</th>\n",
       "      <th>date</th>\n",
       "      <th>country</th>\n",
       "      <th>city</th>\n",
       "      <th>industry</th>\n",
       "      <th>investors</th>\n",
       "    </tr>\n",
       "  </thead>\n",
       "  <tbody>\n",
       "    <tr>\n",
       "      <th>10</th>\n",
       "      <td>Chime</td>\n",
       "      <td>25.0</td>\n",
       "      <td>2019-03-05</td>\n",
       "      <td>United States</td>\n",
       "      <td>San Francisco</td>\n",
       "      <td>Fintech</td>\n",
       "      <td>0      Sequoia Capital China, SIG Asia Investm...</td>\n",
       "    </tr>\n",
       "    <tr>\n",
       "      <th>11</th>\n",
       "      <td>FTX</td>\n",
       "      <td>25.0</td>\n",
       "      <td>2021-07-20</td>\n",
       "      <td>Hong Kong</td>\n",
       "      <td>NaN</td>\n",
       "      <td>Fintech</td>\n",
       "      <td>0      Sequoia Capital China, SIG Asia Investm...</td>\n",
       "    </tr>\n",
       "    <tr>\n",
       "      <th>12</th>\n",
       "      <td>BYJU's</td>\n",
       "      <td>21.0</td>\n",
       "      <td>2017-07-25</td>\n",
       "      <td>India</td>\n",
       "      <td>Bengaluru</td>\n",
       "      <td>Edtech</td>\n",
       "      <td>0      Sequoia Capital China, SIG Asia Investm...</td>\n",
       "    </tr>\n",
       "    <tr>\n",
       "      <th>13</th>\n",
       "      <td>Xiaohongshu</td>\n",
       "      <td>20.0</td>\n",
       "      <td>2016-03-31</td>\n",
       "      <td>China</td>\n",
       "      <td>Shanghai</td>\n",
       "      <td>E-commerce &amp; direct-to-consumer</td>\n",
       "      <td>0      Sequoia Capital China, SIG Asia Investm...</td>\n",
       "    </tr>\n",
       "    <tr>\n",
       "      <th>14</th>\n",
       "      <td>J&amp;T Express</td>\n",
       "      <td>20.0</td>\n",
       "      <td>2021-04-07</td>\n",
       "      <td>Indonesia</td>\n",
       "      <td>Jakarta</td>\n",
       "      <td>Supply chain, logistics, &amp; delivery</td>\n",
       "      <td>0      Sequoia Capital China, SIG Asia Investm...</td>\n",
       "    </tr>\n",
       "  </tbody>\n",
       "</table>\n",
       "</div>"
      ],
      "text/plain": [
       "        company  valuation       date        country           city  \\\n",
       "10        Chime       25.0 2019-03-05  United States  San Francisco   \n",
       "11          FTX       25.0 2021-07-20      Hong Kong            NaN   \n",
       "12       BYJU's       21.0 2017-07-25          India      Bengaluru   \n",
       "13  Xiaohongshu       20.0 2016-03-31          China       Shanghai   \n",
       "14  J&T Express       20.0 2021-04-07      Indonesia        Jakarta   \n",
       "\n",
       "                               industry  \\\n",
       "10                              Fintech   \n",
       "11                              Fintech   \n",
       "12                               Edtech   \n",
       "13      E-commerce & direct-to-consumer   \n",
       "14  Supply chain, logistics, & delivery   \n",
       "\n",
       "                                            investors  \n",
       "10  0      Sequoia Capital China, SIG Asia Investm...  \n",
       "11  0      Sequoia Capital China, SIG Asia Investm...  \n",
       "12  0      Sequoia Capital China, SIG Asia Investm...  \n",
       "13  0      Sequoia Capital China, SIG Asia Investm...  \n",
       "14  0      Sequoia Capital China, SIG Asia Investm...  "
      ]
     },
     "execution_count": 37,
     "metadata": {},
     "output_type": "execute_result"
    }
   ],
   "source": [
    "startups_without_anomaly = startups[startups['valuation'] < upper_level]\n",
    "startups_without_anomaly.head()"
   ]
  },
  {
   "cell_type": "code",
   "execution_count": 38,
   "id": "bb0a587f",
   "metadata": {},
   "outputs": [
    {
     "data": {
      "image/png": "[encoded data removed]",
      "text/plain": [
       "<Figure size 432x288 with 1 Axes>"
      ]
     },
     "metadata": {
      "needs_background": "light"
     },
     "output_type": "display_data"
    }
   ],
   "source": [
    "startups_without_anomaly['valuation'].hist(bins = 50, color = '#FF69B4')\n",
    "plt.xlabel('Оценка стартапа')\n",
    "plt.ylabel('Частота встречаний оценки')\n",
    "plt.title('Распределение значений оценок стартапов без выбросов')\n",
    "plt.show()"
   ]
  },
  {
   "cell_type": "code",
   "execution_count": 39,
   "id": "5d43c0c5",
   "metadata": {},
   "outputs": [
    {
     "data": {
      "text/plain": [
       "count    926.000000\n",
       "mean       2.679870\n",
       "std        2.848006\n",
       "min        1.000000\n",
       "25%        1.050000\n",
       "50%        1.600000\n",
       "75%        3.000000\n",
       "max       25.000000\n",
       "Name: valuation, dtype: float64"
      ]
     },
     "execution_count": 39,
     "metadata": {},
     "output_type": "execute_result"
    }
   ],
   "source": [
    "startups_without_anomaly['valuation'].describe()"
   ]
  },
  {
   "cell_type": "markdown",
   "id": "0f3264b6",
   "metadata": {},
   "source": [
    "<font color = '#0158e3'> *Как мы видим, в значениях об оценке стартапов без выбросов 1/2/3 квартили не изменились, изменилось среднее значение с 3.28 до 2.68 и среднеквадратичное отклонение снизилось с 7.47 до 2.84.*\n",
    "    <br> *В целом, для дальнейшего использования можем использовать первоначальный датасет, так как он дает более полную картину о стоимости стартапов за период.*"
   ]
  },
  {
   "cell_type": "markdown",
   "id": "b945cf6e",
   "metadata": {},
   "source": [
    "### №6 Создание категорий стартапов на основе их стоимости"
   ]
  },
  {
   "cell_type": "markdown",
   "id": "28dbfbb5",
   "metadata": {},
   "source": [
    "#### Добавим отдельный столбик в наш датасет, в котором будут лежать категории стартапов по их оценке"
   ]
  },
  {
   "cell_type": "code",
   "execution_count": 40,
   "id": "5ad8b324",
   "metadata": {},
   "outputs": [],
   "source": [
    "def valuation_category(valuation):\n",
    "    if valuation <= 1.05:\n",
    "        return 'low-estimated'\n",
    "    elif valuation <= 3:\n",
    "        return 'mid-estimated'\n",
    "    else:\n",
    "        return 'high-estimated'"
   ]
  },
  {
   "cell_type": "markdown",
   "id": "a4df2a16",
   "metadata": {},
   "source": [
    " <font color = '#0158e3'> *Значения категорий основаны на 25% и 75% квартилях*"
   ]
  },
  {
   "cell_type": "code",
   "execution_count": 41,
   "id": "696fac98",
   "metadata": {},
   "outputs": [],
   "source": [
    "startups['category'] = startups['valuation'].apply(valuation_category)"
   ]
  },
  {
   "cell_type": "code",
   "execution_count": 42,
   "id": "c2ad6e60",
   "metadata": {},
   "outputs": [],
   "source": [
    "startups['category'] = pd.Categorical(startups['category'])"
   ]
  },
  {
   "cell_type": "code",
   "execution_count": 43,
   "id": "af21ada9",
   "metadata": {},
   "outputs": [
    {
     "data": {
      "text/plain": [
       "mid-estimated     474\n",
       "low-estimated     236\n",
       "high-estimated    226\n",
       "Name: category, dtype: int64"
      ]
     },
     "execution_count": 43,
     "metadata": {},
     "output_type": "execute_result"
    }
   ],
   "source": [
    "startups['category'].value_counts()"
   ]
  },
  {
   "cell_type": "code",
   "execution_count": 44,
   "id": "1204094a",
   "metadata": {},
   "outputs": [
    {
     "data": {
      "image/png": "[encoded data removed]",
      "text/plain": [
       "<Figure size 432x288 with 1 Axes>"
      ]
     },
     "metadata": {},
     "output_type": "display_data"
    }
   ],
   "source": [
    "colors = ['#FF69B4', '#87CEFA', '#FFE4C4']\n",
    "startups.groupby('category')['valuation'].sum()\\\n",
    ".plot(kind = 'pie', colors = colors, title = 'Доли суммарной стоимости стартапов по категориям', autopct = '%.0f%%')\n",
    "plt.show()"
   ]
  },
  {
   "cell_type": "markdown",
   "id": "c73f41e2",
   "metadata": {},
   "source": [
    "### №7 Сколько компаний присоединялось каждый год и какая была их суммарная оценка"
   ]
  },
  {
   "cell_type": "code",
   "execution_count": 45,
   "id": "49d7b76f",
   "metadata": {},
   "outputs": [
    {
     "data": {
      "text/plain": [
       "date\n",
       "2021    480\n",
       "2019    110\n",
       "2020    110\n",
       "2018    107\n",
       "2017     46\n",
       "2015     37\n",
       "2016     22\n",
       "2014     13\n",
       "2012      4\n",
       "2013      3\n",
       "2011      2\n",
       "2007      1\n",
       "2010      1\n",
       "dtype: int64"
      ]
     },
     "execution_count": 45,
     "metadata": {},
     "output_type": "execute_result"
    }
   ],
   "source": [
    "year_addition = startups.value_counts(startups['date'].dt.year)\n",
    "year_addition"
   ]
  },
  {
   "cell_type": "code",
   "execution_count": 46,
   "id": "2d19cde8",
   "metadata": {},
   "outputs": [
    {
     "data": {
      "image/png": "[encoded data removed]",
      "text/plain": [
       "<Figure size 720x360 with 1 Axes>"
      ]
     },
     "metadata": {
      "needs_background": "light"
     },
     "output_type": "display_data"
    }
   ],
   "source": [
    "plt.figure(figsize=(10,5))\n",
    "plt.bar(year_addition.index, year_addition, color = '#FF69B4')\n",
    "plt.xlabel('Год')\n",
    "plt.ylabel('Число появившихся стартапов')\n",
    "plt.title('Сколько стартапов прибавилось за год', fontdict={\"fontsize\":15})\n",
    "plt.show()"
   ]
  },
  {
   "cell_type": "markdown",
   "id": "053e2530",
   "metadata": {},
   "source": [
    " <font color = '#0158e3'> *Как мы видим наибольшее число стартапов приходится на 2021 год, а в период 2018 - 2020 годов число стартапов было примерно одинаковое, общий тренд положительный*"
   ]
  },
  {
   "cell_type": "code",
   "execution_count": 47,
   "id": "cf6ab8bb",
   "metadata": {},
   "outputs": [
    {
     "data": {
      "text/plain": [
       "date\n",
       "2007      1.38\n",
       "2010      3.00\n",
       "2011     51.30\n",
       "2012    122.30\n",
       "2013      4.30\n",
       "2014    165.38\n",
       "2015     99.55\n",
       "2016     81.04\n",
       "2017    296.14\n",
       "2018    495.47\n",
       "2019    416.08\n",
       "2020    362.48\n",
       "2021    972.74\n",
       "Name: valuation, dtype: float64"
      ]
     },
     "execution_count": 47,
     "metadata": {},
     "output_type": "execute_result"
    }
   ],
   "source": [
    "year_addition_sum = startups.groupby(startups['date'].dt.year)['valuation'].sum()\n",
    "year_addition_sum"
   ]
  },
  {
   "cell_type": "code",
   "execution_count": 48,
   "id": "538bf277",
   "metadata": {},
   "outputs": [
    {
     "data": {
      "image/png": "[encoded data removed]",
      "text/plain": [
       "<Figure size 720x360 with 1 Axes>"
      ]
     },
     "metadata": {
      "needs_background": "light"
     },
     "output_type": "display_data"
    }
   ],
   "source": [
    "plt.figure(figsize=(10,5))\n",
    "plt.bar(year_addition_sum.index, year_addition_sum, color = '#87CEFA')\n",
    "plt.xlabel('Год')\n",
    "plt.ylabel('Сумма оценок появившихся стартапов')\n",
    "plt.title('Суммарная стоимость стартапов, которые прибавились за год', fontdict={\"fontsize\":15})\n",
    "plt.show()"
   ]
  },
  {
   "cell_type": "markdown",
   "id": "a29e8863",
   "metadata": {},
   "source": [
    " <font color = '#0158e3'> *Аналогично числу стартапов, за 2021 год у нас наибольшая суммарная оценка стартапов, а в период 2018 - 2020 года, когда число появившихся стартапов было примерно одинаковым, выделяется 2018 год по суммарной оценке - можем посмотреть, сколько \"high-estimated\" компаний возникло в этот период*"
   ]
  },
  {
   "cell_type": "code",
   "execution_count": 49,
   "id": "cff6bc12",
   "metadata": {},
   "outputs": [
    {
     "data": {
      "text/plain": [
       "(42, 8)"
      ]
     },
     "execution_count": 49,
     "metadata": {},
     "output_type": "execute_result"
    }
   ],
   "source": [
    "startups[startups['date'].dt.year == 2018].query(\"category == 'high-estimated'\").shape"
   ]
  },
  {
   "cell_type": "markdown",
   "id": "f0ee2522",
   "metadata": {},
   "source": [
    "<font color = '#0158e3'> *За 2018 год появилось 42 высоко-оцененных стартапа, поэтому этот год выбивается на графике. Сравним с числом высоко-оценнных стартапов за 2019 и 2020 год*"
   ]
  },
  {
   "cell_type": "code",
   "execution_count": 50,
   "id": "11985823",
   "metadata": {},
   "outputs": [
    {
     "data": {
      "text/plain": [
       "(36, 8)"
      ]
     },
     "execution_count": 50,
     "metadata": {},
     "output_type": "execute_result"
    }
   ],
   "source": [
    "startups[startups['date'].dt.year == 2019].query(\"category == 'high-estimated'\").shape"
   ]
  },
  {
   "cell_type": "code",
   "execution_count": 51,
   "id": "074781ce",
   "metadata": {},
   "outputs": [
    {
     "data": {
      "text/plain": [
       "(46, 8)"
      ]
     },
     "execution_count": 51,
     "metadata": {},
     "output_type": "execute_result"
    }
   ],
   "source": [
    "startups[startups['date'].dt.year == 2020].query(\"category == 'high-estimated'\").shape"
   ]
  },
  {
   "cell_type": "markdown",
   "id": "c2938353",
   "metadata": {},
   "source": [
    "<font color = '#0158e3'> *За 2020 год возникло больше высоко-оценнных стартапов, чем за 2018, хотя суммарная оценка всех стартапов все равно ниже, поэтому сравним суммы высоко-оценнных стартапов за все года*"
   ]
  },
  {
   "cell_type": "code",
   "execution_count": 52,
   "id": "8b153f53",
   "metadata": {},
   "outputs": [
    {
     "data": {
      "text/html": [
       "<div>\n",
       "<style scoped>\n",
       "    .dataframe tbody tr th:only-of-type {\n",
       "        vertical-align: middle;\n",
       "    }\n",
       "\n",
       "    .dataframe tbody tr th {\n",
       "        vertical-align: top;\n",
       "    }\n",
       "\n",
       "    .dataframe thead th {\n",
       "        text-align: right;\n",
       "    }\n",
       "</style>\n",
       "<table border=\"1\" class=\"dataframe\">\n",
       "  <thead>\n",
       "    <tr style=\"text-align: right;\">\n",
       "      <th></th>\n",
       "      <th>valuation</th>\n",
       "    </tr>\n",
       "    <tr>\n",
       "      <th>date</th>\n",
       "      <th></th>\n",
       "    </tr>\n",
       "  </thead>\n",
       "  <tbody>\n",
       "    <tr>\n",
       "      <th>2011</th>\n",
       "      <td>51.30</td>\n",
       "    </tr>\n",
       "    <tr>\n",
       "      <th>2012</th>\n",
       "      <td>118.30</td>\n",
       "    </tr>\n",
       "    <tr>\n",
       "      <th>2014</th>\n",
       "      <td>157.88</td>\n",
       "    </tr>\n",
       "    <tr>\n",
       "      <th>2015</th>\n",
       "      <td>54.70</td>\n",
       "    </tr>\n",
       "    <tr>\n",
       "      <th>2016</th>\n",
       "      <td>58.06</td>\n",
       "    </tr>\n",
       "    <tr>\n",
       "      <th>2017</th>\n",
       "      <td>247.70</td>\n",
       "    </tr>\n",
       "    <tr>\n",
       "      <th>2018</th>\n",
       "      <td>398.80</td>\n",
       "    </tr>\n",
       "    <tr>\n",
       "      <th>2019</th>\n",
       "      <td>288.67</td>\n",
       "    </tr>\n",
       "    <tr>\n",
       "      <th>2020</th>\n",
       "      <td>259.19</td>\n",
       "    </tr>\n",
       "    <tr>\n",
       "      <th>2021</th>\n",
       "      <td>351.18</td>\n",
       "    </tr>\n",
       "  </tbody>\n",
       "</table>\n",
       "</div>"
      ],
      "text/plain": [
       "      valuation\n",
       "date           \n",
       "2011      51.30\n",
       "2012     118.30\n",
       "2014     157.88\n",
       "2015      54.70\n",
       "2016      58.06\n",
       "2017     247.70\n",
       "2018     398.80\n",
       "2019     288.67\n",
       "2020     259.19\n",
       "2021     351.18"
      ]
     },
     "execution_count": 52,
     "metadata": {},
     "output_type": "execute_result"
    }
   ],
   "source": [
    "startups.query(\"category == 'high-estimated'\")\\\n",
    ".groupby(startups['date'].dt.year)\\\n",
    ".agg({'valuation': 'sum'})"
   ]
  },
  {
   "cell_type": "markdown",
   "id": "6da3d6e4",
   "metadata": {},
   "source": [
    "<font color = '#0158e3'> *Таким образом, несмотря на то, что в 2020 году число высоко-оцененных стартапов было больше, чем в 2018 (46 vs 42), их суммарная оценка все равно была ниже (259,2 vs 398,8)*"
   ]
  },
  {
   "cell_type": "markdown",
   "id": "080eb5fb",
   "metadata": {},
   "source": [
    " "
   ]
  },
  {
   "cell_type": "markdown",
   "id": "8a960e70",
   "metadata": {},
   "source": [
    "# <font color = '#f364a2'> Анализ стартапов по индустриям"
   ]
  },
  {
   "cell_type": "markdown",
   "id": "600fdabb",
   "metadata": {},
   "source": [
    "### №1 Сколько стартапов в каждой индустрии"
   ]
  },
  {
   "cell_type": "code",
   "execution_count": 53,
   "id": "f8eaa9d3",
   "metadata": {
    "scrolled": false
   },
   "outputs": [
    {
     "data": {
      "text/plain": [
       "936"
      ]
     },
     "execution_count": 53,
     "metadata": {},
     "output_type": "execute_result"
    }
   ],
   "source": [
    "df = startups.value_counts('industry')\n",
    "df.sum()"
   ]
  },
  {
   "cell_type": "code",
   "execution_count": 54,
   "id": "e6f97363",
   "metadata": {},
   "outputs": [
    {
     "data": {
      "image/png": "[encoded data removed]",
      "text/plain": [
       "<Figure size 1440x360 with 1 Axes>"
      ]
     },
     "metadata": {
      "needs_background": "light"
     },
     "output_type": "display_data"
    }
   ],
   "source": [
    "startups.value_counts('industry').plot(kind=\"bar\",figsize=(20,5), color = '#FF69B4')\n",
    "plt.xlabel('Индустрия')\n",
    "plt.ylabel('Число стартапов')\n",
    "plt.title('Число стартапов в каждой индустрии', fontdict={\"fontsize\":25})\n",
    "plt.show()"
   ]
  },
  {
   "cell_type": "markdown",
   "id": "afa6363b",
   "metadata": {},
   "source": [
    "<font color = '#0158e3'> *Наибольшее число стартапов принадлежит Финтех индустрии, на 2ом месте ПО и услуги*"
   ]
  },
  {
   "cell_type": "markdown",
   "id": "5eb39a97",
   "metadata": {},
   "source": [
    "### №2 Суммарная оценка стартапов по индустриям"
   ]
  },
  {
   "cell_type": "code",
   "execution_count": 55,
   "id": "ad3179ea",
   "metadata": {
    "scrolled": true
   },
   "outputs": [
    {
     "data": {
      "text/html": [
       "<div>\n",
       "<style scoped>\n",
       "    .dataframe tbody tr th:only-of-type {\n",
       "        vertical-align: middle;\n",
       "    }\n",
       "\n",
       "    .dataframe tbody tr th {\n",
       "        vertical-align: top;\n",
       "    }\n",
       "\n",
       "    .dataframe thead th {\n",
       "        text-align: right;\n",
       "    }\n",
       "</style>\n",
       "<table border=\"1\" class=\"dataframe\">\n",
       "  <thead>\n",
       "    <tr style=\"text-align: right;\">\n",
       "      <th></th>\n",
       "      <th>valuation</th>\n",
       "    </tr>\n",
       "    <tr>\n",
       "      <th>industry</th>\n",
       "      <th></th>\n",
       "    </tr>\n",
       "  </thead>\n",
       "  <tbody>\n",
       "    <tr>\n",
       "      <th>Fintech</th>\n",
       "      <td>744.13</td>\n",
       "    </tr>\n",
       "    <tr>\n",
       "      <th>Internet software &amp; services</th>\n",
       "      <td>483.76</td>\n",
       "    </tr>\n",
       "    <tr>\n",
       "      <th>Artificial Intelligence</th>\n",
       "      <td>312.84</td>\n",
       "    </tr>\n",
       "    <tr>\n",
       "      <th>E-commerce &amp; direct-to-consumer</th>\n",
       "      <td>291.10</td>\n",
       "    </tr>\n",
       "    <tr>\n",
       "      <th>Other</th>\n",
       "      <td>245.46</td>\n",
       "    </tr>\n",
       "    <tr>\n",
       "      <th>Health</th>\n",
       "      <td>166.26</td>\n",
       "    </tr>\n",
       "    <tr>\n",
       "      <th>Supply chain, logistics, &amp; delivery</th>\n",
       "      <td>146.29</td>\n",
       "    </tr>\n",
       "    <tr>\n",
       "      <th>Data management &amp; analytics</th>\n",
       "      <td>121.70</td>\n",
       "    </tr>\n",
       "    <tr>\n",
       "      <th>Cybersecurity</th>\n",
       "      <td>107.54</td>\n",
       "    </tr>\n",
       "    <tr>\n",
       "      <th>Hardware</th>\n",
       "      <td>98.59</td>\n",
       "    </tr>\n",
       "    <tr>\n",
       "      <th>Auto &amp; transportation</th>\n",
       "      <td>89.30</td>\n",
       "    </tr>\n",
       "    <tr>\n",
       "      <th>Edtech</th>\n",
       "      <td>85.37</td>\n",
       "    </tr>\n",
       "    <tr>\n",
       "      <th>Mobile &amp; telecommunications</th>\n",
       "      <td>79.09</td>\n",
       "    </tr>\n",
       "    <tr>\n",
       "      <th>Consumer &amp; retail</th>\n",
       "      <td>64.13</td>\n",
       "    </tr>\n",
       "    <tr>\n",
       "      <th>Travel</th>\n",
       "      <td>35.60</td>\n",
       "    </tr>\n",
       "  </tbody>\n",
       "</table>\n",
       "</div>"
      ],
      "text/plain": [
       "                                     valuation\n",
       "industry                                      \n",
       "Fintech                                 744.13\n",
       "Internet software & services            483.76\n",
       "Artificial Intelligence                 312.84\n",
       "E-commerce & direct-to-consumer         291.10\n",
       "Other                                   245.46\n",
       "Health                                  166.26\n",
       "Supply chain, logistics, & delivery     146.29\n",
       "Data management & analytics             121.70\n",
       "Cybersecurity                           107.54\n",
       "Hardware                                 98.59\n",
       "Auto & transportation                    89.30\n",
       "Edtech                                   85.37\n",
       "Mobile & telecommunications              79.09\n",
       "Consumer & retail                        64.13\n",
       "Travel                                   35.60"
      ]
     },
     "execution_count": 55,
     "metadata": {},
     "output_type": "execute_result"
    }
   ],
   "source": [
    "startups.groupby('industry')\\\n",
    ".agg({'valuation': 'sum'})\\\n",
    ".sort_values('valuation', ascending = False)"
   ]
  },
  {
   "cell_type": "code",
   "execution_count": 56,
   "id": "de506634",
   "metadata": {},
   "outputs": [
    {
     "data": {
      "image/png": "[encoded data removed]",
      "text/plain": [
       "<Figure size 1440x360 with 1 Axes>"
      ]
     },
     "metadata": {
      "needs_background": "light"
     },
     "output_type": "display_data"
    }
   ],
   "source": [
    "startups.groupby('industry')\\\n",
    ".agg({'valuation': 'sum'})\\\n",
    ".sort_values('valuation', ascending = False)\\\n",
    ".plot(kind=\"bar\",figsize=(20,5), color = '#87CEFA')\n",
    "plt.xlabel('Индустрия')\n",
    "plt.ylabel('Суммарная оценка стартапов')\n",
    "plt.title('Суммарная стоимость стартапов в каждой индустрии', fontdict={\"fontsize\":25})\n",
    "plt.show()"
   ]
  },
  {
   "cell_type": "markdown",
   "id": "11126fd1",
   "metadata": {},
   "source": [
    "<font color = '#0158e3'> *Аналогично количеству стартапов в индустрии, наибольшая суммарная стоимость у стартапов принадлежащих индустрии финтех и ПО и услуги*"
   ]
  },
  {
   "cell_type": "markdown",
   "id": "61ffaa3c",
   "metadata": {},
   "source": [
    "### №3 Средняя стоимость стартапов в каждой индустрии"
   ]
  },
  {
   "cell_type": "code",
   "execution_count": 57,
   "id": "135d4df2",
   "metadata": {
    "scrolled": true
   },
   "outputs": [
    {
     "data": {
      "text/html": [
       "<div>\n",
       "<style scoped>\n",
       "    .dataframe tbody tr th:only-of-type {\n",
       "        vertical-align: middle;\n",
       "    }\n",
       "\n",
       "    .dataframe tbody tr th {\n",
       "        vertical-align: top;\n",
       "    }\n",
       "\n",
       "    .dataframe thead th {\n",
       "        text-align: right;\n",
       "    }\n",
       "</style>\n",
       "<table border=\"1\" class=\"dataframe\">\n",
       "  <thead>\n",
       "    <tr style=\"text-align: right;\">\n",
       "      <th></th>\n",
       "      <th>valuation</th>\n",
       "    </tr>\n",
       "    <tr>\n",
       "      <th>industry</th>\n",
       "      <th></th>\n",
       "    </tr>\n",
       "  </thead>\n",
       "  <tbody>\n",
       "    <tr>\n",
       "      <th>Other</th>\n",
       "      <td>4.812941</td>\n",
       "    </tr>\n",
       "    <tr>\n",
       "      <th>Artificial Intelligence</th>\n",
       "      <td>4.285479</td>\n",
       "    </tr>\n",
       "    <tr>\n",
       "      <th>Fintech</th>\n",
       "      <td>3.895969</td>\n",
       "    </tr>\n",
       "    <tr>\n",
       "      <th>Data management &amp; analytics</th>\n",
       "      <td>3.380556</td>\n",
       "    </tr>\n",
       "    <tr>\n",
       "      <th>Edtech</th>\n",
       "      <td>3.161852</td>\n",
       "    </tr>\n",
       "    <tr>\n",
       "      <th>Hardware</th>\n",
       "      <td>3.080938</td>\n",
       "    </tr>\n",
       "    <tr>\n",
       "      <th>Auto &amp; transportation</th>\n",
       "      <td>3.079310</td>\n",
       "    </tr>\n",
       "    <tr>\n",
       "      <th>Internet software &amp; services</th>\n",
       "      <td>2.896766</td>\n",
       "    </tr>\n",
       "    <tr>\n",
       "      <th>Supply chain, logistics, &amp; delivery</th>\n",
       "      <td>2.868431</td>\n",
       "    </tr>\n",
       "    <tr>\n",
       "      <th>E-commerce &amp; direct-to-consumer</th>\n",
       "      <td>2.853922</td>\n",
       "    </tr>\n",
       "    <tr>\n",
       "      <th>Consumer &amp; retail</th>\n",
       "      <td>2.788261</td>\n",
       "    </tr>\n",
       "    <tr>\n",
       "      <th>Travel</th>\n",
       "      <td>2.738462</td>\n",
       "    </tr>\n",
       "    <tr>\n",
       "      <th>Health</th>\n",
       "      <td>2.639048</td>\n",
       "    </tr>\n",
       "    <tr>\n",
       "      <th>Cybersecurity</th>\n",
       "      <td>2.622927</td>\n",
       "    </tr>\n",
       "    <tr>\n",
       "      <th>Mobile &amp; telecommunications</th>\n",
       "      <td>2.137568</td>\n",
       "    </tr>\n",
       "  </tbody>\n",
       "</table>\n",
       "</div>"
      ],
      "text/plain": [
       "                                     valuation\n",
       "industry                                      \n",
       "Other                                 4.812941\n",
       "Artificial Intelligence               4.285479\n",
       "Fintech                               3.895969\n",
       "Data management & analytics           3.380556\n",
       "Edtech                                3.161852\n",
       "Hardware                              3.080938\n",
       "Auto & transportation                 3.079310\n",
       "Internet software & services          2.896766\n",
       "Supply chain, logistics, & delivery   2.868431\n",
       "E-commerce & direct-to-consumer       2.853922\n",
       "Consumer & retail                     2.788261\n",
       "Travel                                2.738462\n",
       "Health                                2.639048\n",
       "Cybersecurity                         2.622927\n",
       "Mobile & telecommunications           2.137568"
      ]
     },
     "execution_count": 57,
     "metadata": {},
     "output_type": "execute_result"
    }
   ],
   "source": [
    "startups.groupby('industry')\\\n",
    ".agg({'valuation': 'mean'})\\\n",
    ".sort_values('valuation', ascending = False)"
   ]
  },
  {
   "cell_type": "code",
   "execution_count": 58,
   "id": "450f21b2",
   "metadata": {
    "scrolled": false
   },
   "outputs": [
    {
     "data": {
      "image/png": "[encoded data removed]",
      "text/plain": [
       "<Figure size 1440x360 with 1 Axes>"
      ]
     },
     "metadata": {
      "needs_background": "light"
     },
     "output_type": "display_data"
    }
   ],
   "source": [
    "startups.groupby('industry')\\\n",
    ".agg({'valuation': 'mean'})\\\n",
    ".sort_values('valuation', ascending = False)\\\n",
    ".plot(kind=\"bar\",figsize=(20,5), color = '#FFE4C4')\n",
    "plt.xlabel('Индустрия')\n",
    "plt.ylabel('Средняя стоимость стартапов')\n",
    "plt.title('Средняя стоимость стартапов в каждой индустрии', fontdict={\"fontsize\":25})\n",
    "plt.show()"
   ]
  },
  {
   "cell_type": "markdown",
   "id": "53ef06c6",
   "metadata": {},
   "source": [
    "<font color = '#0158e3'> *Наибольшая средняя стоимость стартапов у \"других\" индустрий, на 2ом месте стартапы, связанные с индустрией ИИ*"
   ]
  },
  {
   "cell_type": "markdown",
   "id": "bb8c61a6",
   "metadata": {},
   "source": [
    "### №4 Минимальная и максимальная стоимость стартапов по индустриям"
   ]
  },
  {
   "cell_type": "code",
   "execution_count": 59,
   "id": "cbab6654",
   "metadata": {
    "scrolled": true
   },
   "outputs": [
    {
     "data": {
      "text/html": [
       "<div>\n",
       "<style scoped>\n",
       "    .dataframe tbody tr th:only-of-type {\n",
       "        vertical-align: middle;\n",
       "    }\n",
       "\n",
       "    .dataframe tbody tr th {\n",
       "        vertical-align: top;\n",
       "    }\n",
       "\n",
       "    .dataframe thead th {\n",
       "        text-align: right;\n",
       "    }\n",
       "</style>\n",
       "<table border=\"1\" class=\"dataframe\">\n",
       "  <thead>\n",
       "    <tr style=\"text-align: right;\">\n",
       "      <th></th>\n",
       "      <th>valuation</th>\n",
       "    </tr>\n",
       "    <tr>\n",
       "      <th>industry</th>\n",
       "      <th></th>\n",
       "    </tr>\n",
       "  </thead>\n",
       "  <tbody>\n",
       "    <tr>\n",
       "      <th>Artificial Intelligence</th>\n",
       "      <td>1.0</td>\n",
       "    </tr>\n",
       "    <tr>\n",
       "      <th>Auto &amp; transportation</th>\n",
       "      <td>1.0</td>\n",
       "    </tr>\n",
       "    <tr>\n",
       "      <th>Consumer &amp; retail</th>\n",
       "      <td>1.0</td>\n",
       "    </tr>\n",
       "    <tr>\n",
       "      <th>Cybersecurity</th>\n",
       "      <td>1.0</td>\n",
       "    </tr>\n",
       "    <tr>\n",
       "      <th>Data management &amp; analytics</th>\n",
       "      <td>1.0</td>\n",
       "    </tr>\n",
       "    <tr>\n",
       "      <th>E-commerce &amp; direct-to-consumer</th>\n",
       "      <td>1.0</td>\n",
       "    </tr>\n",
       "    <tr>\n",
       "      <th>Edtech</th>\n",
       "      <td>1.0</td>\n",
       "    </tr>\n",
       "    <tr>\n",
       "      <th>Fintech</th>\n",
       "      <td>1.0</td>\n",
       "    </tr>\n",
       "    <tr>\n",
       "      <th>Hardware</th>\n",
       "      <td>1.0</td>\n",
       "    </tr>\n",
       "    <tr>\n",
       "      <th>Health</th>\n",
       "      <td>1.0</td>\n",
       "    </tr>\n",
       "    <tr>\n",
       "      <th>Internet software &amp; services</th>\n",
       "      <td>1.0</td>\n",
       "    </tr>\n",
       "    <tr>\n",
       "      <th>Mobile &amp; telecommunications</th>\n",
       "      <td>1.0</td>\n",
       "    </tr>\n",
       "    <tr>\n",
       "      <th>Other</th>\n",
       "      <td>1.0</td>\n",
       "    </tr>\n",
       "    <tr>\n",
       "      <th>Supply chain, logistics, &amp; delivery</th>\n",
       "      <td>1.0</td>\n",
       "    </tr>\n",
       "    <tr>\n",
       "      <th>Travel</th>\n",
       "      <td>1.0</td>\n",
       "    </tr>\n",
       "  </tbody>\n",
       "</table>\n",
       "</div>"
      ],
      "text/plain": [
       "                                     valuation\n",
       "industry                                      \n",
       "Artificial Intelligence                    1.0\n",
       "Auto & transportation                      1.0\n",
       "Consumer & retail                          1.0\n",
       "Cybersecurity                              1.0\n",
       "Data management & analytics                1.0\n",
       "E-commerce & direct-to-consumer            1.0\n",
       "Edtech                                     1.0\n",
       "Fintech                                    1.0\n",
       "Hardware                                   1.0\n",
       "Health                                     1.0\n",
       "Internet software & services               1.0\n",
       "Mobile & telecommunications                1.0\n",
       "Other                                      1.0\n",
       "Supply chain, logistics, & delivery        1.0\n",
       "Travel                                     1.0"
      ]
     },
     "execution_count": 59,
     "metadata": {},
     "output_type": "execute_result"
    }
   ],
   "source": [
    "startups.groupby('industry')\\\n",
    ".agg({'valuation': 'min'})"
   ]
  },
  {
   "cell_type": "code",
   "execution_count": 60,
   "id": "b39e5494",
   "metadata": {},
   "outputs": [
    {
     "data": {
      "text/html": [
       "<div>\n",
       "<style scoped>\n",
       "    .dataframe tbody tr th:only-of-type {\n",
       "        vertical-align: middle;\n",
       "    }\n",
       "\n",
       "    .dataframe tbody tr th {\n",
       "        vertical-align: top;\n",
       "    }\n",
       "\n",
       "    .dataframe thead th {\n",
       "        text-align: right;\n",
       "    }\n",
       "</style>\n",
       "<table border=\"1\" class=\"dataframe\">\n",
       "  <thead>\n",
       "    <tr style=\"text-align: right;\">\n",
       "      <th></th>\n",
       "      <th>valuation</th>\n",
       "    </tr>\n",
       "    <tr>\n",
       "      <th>industry</th>\n",
       "      <th></th>\n",
       "    </tr>\n",
       "  </thead>\n",
       "  <tbody>\n",
       "    <tr>\n",
       "      <th>Artificial Intelligence</th>\n",
       "      <td>140.0</td>\n",
       "    </tr>\n",
       "    <tr>\n",
       "      <th>Other</th>\n",
       "      <td>100.3</td>\n",
       "    </tr>\n",
       "    <tr>\n",
       "      <th>Fintech</th>\n",
       "      <td>95.0</td>\n",
       "    </tr>\n",
       "    <tr>\n",
       "      <th>Internet software &amp; services</th>\n",
       "      <td>40.0</td>\n",
       "    </tr>\n",
       "    <tr>\n",
       "      <th>Supply chain, logistics, &amp; delivery</th>\n",
       "      <td>39.0</td>\n",
       "    </tr>\n",
       "    <tr>\n",
       "      <th>Data management &amp; analytics</th>\n",
       "      <td>38.0</td>\n",
       "    </tr>\n",
       "    <tr>\n",
       "      <th>Edtech</th>\n",
       "      <td>21.0</td>\n",
       "    </tr>\n",
       "    <tr>\n",
       "      <th>E-commerce &amp; direct-to-consumer</th>\n",
       "      <td>20.0</td>\n",
       "    </tr>\n",
       "    <tr>\n",
       "      <th>Hardware</th>\n",
       "      <td>15.0</td>\n",
       "    </tr>\n",
       "    <tr>\n",
       "      <th>Health</th>\n",
       "      <td>12.6</td>\n",
       "    </tr>\n",
       "    <tr>\n",
       "      <th>Consumer &amp; retail</th>\n",
       "      <td>12.0</td>\n",
       "    </tr>\n",
       "    <tr>\n",
       "      <th>Auto &amp; transportation</th>\n",
       "      <td>11.4</td>\n",
       "    </tr>\n",
       "    <tr>\n",
       "      <th>Travel</th>\n",
       "      <td>9.6</td>\n",
       "    </tr>\n",
       "    <tr>\n",
       "      <th>Cybersecurity</th>\n",
       "      <td>9.0</td>\n",
       "    </tr>\n",
       "    <tr>\n",
       "      <th>Mobile &amp; telecommunications</th>\n",
       "      <td>9.0</td>\n",
       "    </tr>\n",
       "  </tbody>\n",
       "</table>\n",
       "</div>"
      ],
      "text/plain": [
       "                                     valuation\n",
       "industry                                      \n",
       "Artificial Intelligence                  140.0\n",
       "Other                                    100.3\n",
       "Fintech                                   95.0\n",
       "Internet software & services              40.0\n",
       "Supply chain, logistics, & delivery       39.0\n",
       "Data management & analytics               38.0\n",
       "Edtech                                    21.0\n",
       "E-commerce & direct-to-consumer           20.0\n",
       "Hardware                                  15.0\n",
       "Health                                    12.6\n",
       "Consumer & retail                         12.0\n",
       "Auto & transportation                     11.4\n",
       "Travel                                     9.6\n",
       "Cybersecurity                              9.0\n",
       "Mobile & telecommunications                9.0"
      ]
     },
     "execution_count": 60,
     "metadata": {},
     "output_type": "execute_result"
    }
   ],
   "source": [
    "startups.groupby('industry')\\\n",
    ".agg({'valuation': 'max'})\\\n",
    ".sort_values('valuation', ascending = False)"
   ]
  },
  {
   "cell_type": "markdown",
   "id": "d7135087",
   "metadata": {},
   "source": [
    "   <font color = '#0158e3'> *Стартапы с наивысшей оценкой принадлежат индустрии ИИ и \"другим\".\n",
    "    <br> Как раз за счет наличия стартапов с такой высокой оценкой эти две индустрии имеют наиболее высокие средние оценки стартапов*"
   ]
  },
  {
   "cell_type": "markdown",
   "id": "e54db22b",
   "metadata": {},
   "source": [
    "### №5 Единая табличка со всеми метриками по индустриям"
   ]
  },
  {
   "cell_type": "code",
   "execution_count": 61,
   "id": "e10fbe93",
   "metadata": {
    "scrolled": true
   },
   "outputs": [
    {
     "data": {
      "text/html": [
       "<div>\n",
       "<style scoped>\n",
       "    .dataframe tbody tr th:only-of-type {\n",
       "        vertical-align: middle;\n",
       "    }\n",
       "\n",
       "    .dataframe tbody tr th {\n",
       "        vertical-align: top;\n",
       "    }\n",
       "\n",
       "    .dataframe thead th {\n",
       "        text-align: right;\n",
       "    }\n",
       "</style>\n",
       "<table border=\"1\" class=\"dataframe\">\n",
       "  <thead>\n",
       "    <tr style=\"text-align: right;\">\n",
       "      <th></th>\n",
       "      <th>count</th>\n",
       "      <th>sum_value</th>\n",
       "      <th>mean_value</th>\n",
       "      <th>min_value</th>\n",
       "      <th>max_value</th>\n",
       "    </tr>\n",
       "    <tr>\n",
       "      <th>industry</th>\n",
       "      <th></th>\n",
       "      <th></th>\n",
       "      <th></th>\n",
       "      <th></th>\n",
       "      <th></th>\n",
       "    </tr>\n",
       "  </thead>\n",
       "  <tbody>\n",
       "    <tr>\n",
       "      <th>Fintech</th>\n",
       "      <td>191</td>\n",
       "      <td>744.13</td>\n",
       "      <td>3.895969</td>\n",
       "      <td>1.0</td>\n",
       "      <td>95.0</td>\n",
       "    </tr>\n",
       "    <tr>\n",
       "      <th>Internet software &amp; services</th>\n",
       "      <td>167</td>\n",
       "      <td>483.76</td>\n",
       "      <td>2.896766</td>\n",
       "      <td>1.0</td>\n",
       "      <td>40.0</td>\n",
       "    </tr>\n",
       "    <tr>\n",
       "      <th>E-commerce &amp; direct-to-consumer</th>\n",
       "      <td>102</td>\n",
       "      <td>291.10</td>\n",
       "      <td>2.853922</td>\n",
       "      <td>1.0</td>\n",
       "      <td>20.0</td>\n",
       "    </tr>\n",
       "    <tr>\n",
       "      <th>Artificial Intelligence</th>\n",
       "      <td>73</td>\n",
       "      <td>312.84</td>\n",
       "      <td>4.285479</td>\n",
       "      <td>1.0</td>\n",
       "      <td>140.0</td>\n",
       "    </tr>\n",
       "    <tr>\n",
       "      <th>Health</th>\n",
       "      <td>63</td>\n",
       "      <td>166.26</td>\n",
       "      <td>2.639048</td>\n",
       "      <td>1.0</td>\n",
       "      <td>12.6</td>\n",
       "    </tr>\n",
       "    <tr>\n",
       "      <th>Other</th>\n",
       "      <td>51</td>\n",
       "      <td>245.46</td>\n",
       "      <td>4.812941</td>\n",
       "      <td>1.0</td>\n",
       "      <td>100.3</td>\n",
       "    </tr>\n",
       "    <tr>\n",
       "      <th>Supply chain, logistics, &amp; delivery</th>\n",
       "      <td>51</td>\n",
       "      <td>146.29</td>\n",
       "      <td>2.868431</td>\n",
       "      <td>1.0</td>\n",
       "      <td>39.0</td>\n",
       "    </tr>\n",
       "    <tr>\n",
       "      <th>Cybersecurity</th>\n",
       "      <td>41</td>\n",
       "      <td>107.54</td>\n",
       "      <td>2.622927</td>\n",
       "      <td>1.0</td>\n",
       "      <td>9.0</td>\n",
       "    </tr>\n",
       "    <tr>\n",
       "      <th>Mobile &amp; telecommunications</th>\n",
       "      <td>37</td>\n",
       "      <td>79.09</td>\n",
       "      <td>2.137568</td>\n",
       "      <td>1.0</td>\n",
       "      <td>9.0</td>\n",
       "    </tr>\n",
       "    <tr>\n",
       "      <th>Data management &amp; analytics</th>\n",
       "      <td>36</td>\n",
       "      <td>121.70</td>\n",
       "      <td>3.380556</td>\n",
       "      <td>1.0</td>\n",
       "      <td>38.0</td>\n",
       "    </tr>\n",
       "    <tr>\n",
       "      <th>Hardware</th>\n",
       "      <td>32</td>\n",
       "      <td>98.59</td>\n",
       "      <td>3.080938</td>\n",
       "      <td>1.0</td>\n",
       "      <td>15.0</td>\n",
       "    </tr>\n",
       "    <tr>\n",
       "      <th>Auto &amp; transportation</th>\n",
       "      <td>29</td>\n",
       "      <td>89.30</td>\n",
       "      <td>3.079310</td>\n",
       "      <td>1.0</td>\n",
       "      <td>11.4</td>\n",
       "    </tr>\n",
       "    <tr>\n",
       "      <th>Edtech</th>\n",
       "      <td>27</td>\n",
       "      <td>85.37</td>\n",
       "      <td>3.161852</td>\n",
       "      <td>1.0</td>\n",
       "      <td>21.0</td>\n",
       "    </tr>\n",
       "    <tr>\n",
       "      <th>Consumer &amp; retail</th>\n",
       "      <td>23</td>\n",
       "      <td>64.13</td>\n",
       "      <td>2.788261</td>\n",
       "      <td>1.0</td>\n",
       "      <td>12.0</td>\n",
       "    </tr>\n",
       "    <tr>\n",
       "      <th>Travel</th>\n",
       "      <td>13</td>\n",
       "      <td>35.60</td>\n",
       "      <td>2.738462</td>\n",
       "      <td>1.0</td>\n",
       "      <td>9.6</td>\n",
       "    </tr>\n",
       "  </tbody>\n",
       "</table>\n",
       "</div>"
      ],
      "text/plain": [
       "                                     count  sum_value  mean_value  min_value  \\\n",
       "industry                                                                       \n",
       "Fintech                                191     744.13    3.895969        1.0   \n",
       "Internet software & services           167     483.76    2.896766        1.0   \n",
       "E-commerce & direct-to-consumer        102     291.10    2.853922        1.0   \n",
       "Artificial Intelligence                 73     312.84    4.285479        1.0   \n",
       "Health                                  63     166.26    2.639048        1.0   \n",
       "Other                                   51     245.46    4.812941        1.0   \n",
       "Supply chain, logistics, & delivery     51     146.29    2.868431        1.0   \n",
       "Cybersecurity                           41     107.54    2.622927        1.0   \n",
       "Mobile & telecommunications             37      79.09    2.137568        1.0   \n",
       "Data management & analytics             36     121.70    3.380556        1.0   \n",
       "Hardware                                32      98.59    3.080938        1.0   \n",
       "Auto & transportation                   29      89.30    3.079310        1.0   \n",
       "Edtech                                  27      85.37    3.161852        1.0   \n",
       "Consumer & retail                       23      64.13    2.788261        1.0   \n",
       "Travel                                  13      35.60    2.738462        1.0   \n",
       "\n",
       "                                     max_value  \n",
       "industry                                        \n",
       "Fintech                                   95.0  \n",
       "Internet software & services              40.0  \n",
       "E-commerce & direct-to-consumer           20.0  \n",
       "Artificial Intelligence                  140.0  \n",
       "Health                                    12.6  \n",
       "Other                                    100.3  \n",
       "Supply chain, logistics, & delivery       39.0  \n",
       "Cybersecurity                              9.0  \n",
       "Mobile & telecommunications                9.0  \n",
       "Data management & analytics               38.0  \n",
       "Hardware                                  15.0  \n",
       "Auto & transportation                     11.4  \n",
       "Edtech                                    21.0  \n",
       "Consumer & retail                         12.0  \n",
       "Travel                                     9.6  "
      ]
     },
     "execution_count": 61,
     "metadata": {},
     "output_type": "execute_result"
    }
   ],
   "source": [
    "startups.groupby('industry')\\\n",
    ".agg(**{'count' : ('valuation', 'count'), 'sum_value' : ('valuation', 'sum'), 'mean_value' : ('valuation', 'mean'),\n",
    "        'min_value' : ('valuation', 'min'), 'max_value' : ('valuation', 'max')})\\\n",
    ".sort_values('count', ascending = False)"
   ]
  },
  {
   "cell_type": "markdown",
   "id": "6b1059c1",
   "metadata": {},
   "source": [
    "   <font color = '#0158e3'> *Для удобства дальнейшего анализа объединили все стандартные интересующие нас метрики в один запрос*"
   ]
  },
  {
   "cell_type": "markdown",
   "id": "6b044e28",
   "metadata": {},
   "source": [
    "### №6 Сколько стартапов и какая их суммарная оценка в каждой индустрии в разрезе их ценовой категории"
   ]
  },
  {
   "cell_type": "code",
   "execution_count": 62,
   "id": "701da5eb",
   "metadata": {
    "scrolled": true
   },
   "outputs": [
    {
     "data": {
      "text/html": [
       "<div>\n",
       "<style scoped>\n",
       "    .dataframe tbody tr th:only-of-type {\n",
       "        vertical-align: middle;\n",
       "    }\n",
       "\n",
       "    .dataframe tbody tr th {\n",
       "        vertical-align: top;\n",
       "    }\n",
       "\n",
       "    .dataframe thead th {\n",
       "        text-align: right;\n",
       "    }\n",
       "</style>\n",
       "<table border=\"1\" class=\"dataframe\">\n",
       "  <thead>\n",
       "    <tr style=\"text-align: right;\">\n",
       "      <th></th>\n",
       "      <th></th>\n",
       "      <th>count</th>\n",
       "      <th>sum_value</th>\n",
       "    </tr>\n",
       "    <tr>\n",
       "      <th>industry</th>\n",
       "      <th>category</th>\n",
       "      <th></th>\n",
       "      <th></th>\n",
       "    </tr>\n",
       "  </thead>\n",
       "  <tbody>\n",
       "    <tr>\n",
       "      <th rowspan=\"3\" valign=\"top\">Artificial Intelligence</th>\n",
       "      <th>high-estimated</th>\n",
       "      <td>15</td>\n",
       "      <td>229.12</td>\n",
       "    </tr>\n",
       "    <tr>\n",
       "      <th>low-estimated</th>\n",
       "      <td>26</td>\n",
       "      <td>26.08</td>\n",
       "    </tr>\n",
       "    <tr>\n",
       "      <th>mid-estimated</th>\n",
       "      <td>32</td>\n",
       "      <td>57.64</td>\n",
       "    </tr>\n",
       "    <tr>\n",
       "      <th rowspan=\"3\" valign=\"top\">Auto &amp; transportation</th>\n",
       "      <th>high-estimated</th>\n",
       "      <td>10</td>\n",
       "      <td>55.51</td>\n",
       "    </tr>\n",
       "    <tr>\n",
       "      <th>low-estimated</th>\n",
       "      <td>3</td>\n",
       "      <td>3.01</td>\n",
       "    </tr>\n",
       "    <tr>\n",
       "      <th>mid-estimated</th>\n",
       "      <td>16</td>\n",
       "      <td>30.78</td>\n",
       "    </tr>\n",
       "    <tr>\n",
       "      <th rowspan=\"3\" valign=\"top\">Consumer &amp; retail</th>\n",
       "      <th>high-estimated</th>\n",
       "      <td>5</td>\n",
       "      <td>38.66</td>\n",
       "    </tr>\n",
       "    <tr>\n",
       "      <th>low-estimated</th>\n",
       "      <td>6</td>\n",
       "      <td>6.00</td>\n",
       "    </tr>\n",
       "    <tr>\n",
       "      <th>mid-estimated</th>\n",
       "      <td>12</td>\n",
       "      <td>19.47</td>\n",
       "    </tr>\n",
       "    <tr>\n",
       "      <th rowspan=\"3\" valign=\"top\">Cybersecurity</th>\n",
       "      <th>high-estimated</th>\n",
       "      <td>8</td>\n",
       "      <td>51.70</td>\n",
       "    </tr>\n",
       "    <tr>\n",
       "      <th>low-estimated</th>\n",
       "      <td>8</td>\n",
       "      <td>8.00</td>\n",
       "    </tr>\n",
       "    <tr>\n",
       "      <th>mid-estimated</th>\n",
       "      <td>25</td>\n",
       "      <td>47.84</td>\n",
       "    </tr>\n",
       "    <tr>\n",
       "      <th rowspan=\"3\" valign=\"top\">Data management &amp; analytics</th>\n",
       "      <th>high-estimated</th>\n",
       "      <td>10</td>\n",
       "      <td>83.20</td>\n",
       "    </tr>\n",
       "    <tr>\n",
       "      <th>low-estimated</th>\n",
       "      <td>6</td>\n",
       "      <td>6.05</td>\n",
       "    </tr>\n",
       "    <tr>\n",
       "      <th>mid-estimated</th>\n",
       "      <td>20</td>\n",
       "      <td>32.45</td>\n",
       "    </tr>\n",
       "    <tr>\n",
       "      <th rowspan=\"3\" valign=\"top\">E-commerce &amp; direct-to-consumer</th>\n",
       "      <th>high-estimated</th>\n",
       "      <td>27</td>\n",
       "      <td>178.03</td>\n",
       "    </tr>\n",
       "    <tr>\n",
       "      <th>low-estimated</th>\n",
       "      <td>25</td>\n",
       "      <td>25.05</td>\n",
       "    </tr>\n",
       "    <tr>\n",
       "      <th>mid-estimated</th>\n",
       "      <td>50</td>\n",
       "      <td>88.02</td>\n",
       "    </tr>\n",
       "    <tr>\n",
       "      <th rowspan=\"3\" valign=\"top\">Edtech</th>\n",
       "      <th>high-estimated</th>\n",
       "      <td>6</td>\n",
       "      <td>51.39</td>\n",
       "    </tr>\n",
       "    <tr>\n",
       "      <th>low-estimated</th>\n",
       "      <td>8</td>\n",
       "      <td>8.00</td>\n",
       "    </tr>\n",
       "    <tr>\n",
       "      <th>mid-estimated</th>\n",
       "      <td>13</td>\n",
       "      <td>25.98</td>\n",
       "    </tr>\n",
       "    <tr>\n",
       "      <th rowspan=\"3\" valign=\"top\">Fintech</th>\n",
       "      <th>high-estimated</th>\n",
       "      <td>51</td>\n",
       "      <td>524.18</td>\n",
       "    </tr>\n",
       "    <tr>\n",
       "      <th>low-estimated</th>\n",
       "      <td>46</td>\n",
       "      <td>46.00</td>\n",
       "    </tr>\n",
       "    <tr>\n",
       "      <th>mid-estimated</th>\n",
       "      <td>94</td>\n",
       "      <td>173.95</td>\n",
       "    </tr>\n",
       "    <tr>\n",
       "      <th rowspan=\"3\" valign=\"top\">Hardware</th>\n",
       "      <th>high-estimated</th>\n",
       "      <td>9</td>\n",
       "      <td>66.58</td>\n",
       "    </tr>\n",
       "    <tr>\n",
       "      <th>low-estimated</th>\n",
       "      <td>11</td>\n",
       "      <td>11.05</td>\n",
       "    </tr>\n",
       "    <tr>\n",
       "      <th>mid-estimated</th>\n",
       "      <td>12</td>\n",
       "      <td>20.96</td>\n",
       "    </tr>\n",
       "    <tr>\n",
       "      <th rowspan=\"3\" valign=\"top\">Health</th>\n",
       "      <th>high-estimated</th>\n",
       "      <td>17</td>\n",
       "      <td>101.75</td>\n",
       "    </tr>\n",
       "    <tr>\n",
       "      <th>low-estimated</th>\n",
       "      <td>17</td>\n",
       "      <td>17.04</td>\n",
       "    </tr>\n",
       "    <tr>\n",
       "      <th>mid-estimated</th>\n",
       "      <td>29</td>\n",
       "      <td>47.47</td>\n",
       "    </tr>\n",
       "    <tr>\n",
       "      <th rowspan=\"3\" valign=\"top\">Internet software &amp; services</th>\n",
       "      <th>high-estimated</th>\n",
       "      <td>39</td>\n",
       "      <td>277.27</td>\n",
       "    </tr>\n",
       "    <tr>\n",
       "      <th>low-estimated</th>\n",
       "      <td>32</td>\n",
       "      <td>32.05</td>\n",
       "    </tr>\n",
       "    <tr>\n",
       "      <th>mid-estimated</th>\n",
       "      <td>96</td>\n",
       "      <td>174.44</td>\n",
       "    </tr>\n",
       "    <tr>\n",
       "      <th rowspan=\"3\" valign=\"top\">Mobile &amp; telecommunications</th>\n",
       "      <th>high-estimated</th>\n",
       "      <td>8</td>\n",
       "      <td>38.59</td>\n",
       "    </tr>\n",
       "    <tr>\n",
       "      <th>low-estimated</th>\n",
       "      <td>14</td>\n",
       "      <td>14.05</td>\n",
       "    </tr>\n",
       "    <tr>\n",
       "      <th>mid-estimated</th>\n",
       "      <td>15</td>\n",
       "      <td>26.45</td>\n",
       "    </tr>\n",
       "    <tr>\n",
       "      <th rowspan=\"3\" valign=\"top\">Other</th>\n",
       "      <th>high-estimated</th>\n",
       "      <td>12</td>\n",
       "      <td>186.90</td>\n",
       "    </tr>\n",
       "    <tr>\n",
       "      <th>low-estimated</th>\n",
       "      <td>12</td>\n",
       "      <td>12.00</td>\n",
       "    </tr>\n",
       "    <tr>\n",
       "      <th>mid-estimated</th>\n",
       "      <td>27</td>\n",
       "      <td>46.56</td>\n",
       "    </tr>\n",
       "    <tr>\n",
       "      <th rowspan=\"3\" valign=\"top\">Supply chain, logistics, &amp; delivery</th>\n",
       "      <th>high-estimated</th>\n",
       "      <td>7</td>\n",
       "      <td>86.05</td>\n",
       "    </tr>\n",
       "    <tr>\n",
       "      <th>low-estimated</th>\n",
       "      <td>20</td>\n",
       "      <td>20.06</td>\n",
       "    </tr>\n",
       "    <tr>\n",
       "      <th>mid-estimated</th>\n",
       "      <td>24</td>\n",
       "      <td>40.18</td>\n",
       "    </tr>\n",
       "    <tr>\n",
       "      <th rowspan=\"3\" valign=\"top\">Travel</th>\n",
       "      <th>high-estimated</th>\n",
       "      <td>2</td>\n",
       "      <td>16.85</td>\n",
       "    </tr>\n",
       "    <tr>\n",
       "      <th>low-estimated</th>\n",
       "      <td>2</td>\n",
       "      <td>2.00</td>\n",
       "    </tr>\n",
       "    <tr>\n",
       "      <th>mid-estimated</th>\n",
       "      <td>9</td>\n",
       "      <td>16.75</td>\n",
       "    </tr>\n",
       "  </tbody>\n",
       "</table>\n",
       "</div>"
      ],
      "text/plain": [
       "                                                    count  sum_value\n",
       "industry                            category                        \n",
       "Artificial Intelligence             high-estimated     15     229.12\n",
       "                                    low-estimated      26      26.08\n",
       "                                    mid-estimated      32      57.64\n",
       "Auto & transportation               high-estimated     10      55.51\n",
       "                                    low-estimated       3       3.01\n",
       "                                    mid-estimated      16      30.78\n",
       "Consumer & retail                   high-estimated      5      38.66\n",
       "                                    low-estimated       6       6.00\n",
       "                                    mid-estimated      12      19.47\n",
       "Cybersecurity                       high-estimated      8      51.70\n",
       "                                    low-estimated       8       8.00\n",
       "                                    mid-estimated      25      47.84\n",
       "Data management & analytics         high-estimated     10      83.20\n",
       "                                    low-estimated       6       6.05\n",
       "                                    mid-estimated      20      32.45\n",
       "E-commerce & direct-to-consumer     high-estimated     27     178.03\n",
       "                                    low-estimated      25      25.05\n",
       "                                    mid-estimated      50      88.02\n",
       "Edtech                              high-estimated      6      51.39\n",
       "                                    low-estimated       8       8.00\n",
       "                                    mid-estimated      13      25.98\n",
       "Fintech                             high-estimated     51     524.18\n",
       "                                    low-estimated      46      46.00\n",
       "                                    mid-estimated      94     173.95\n",
       "Hardware                            high-estimated      9      66.58\n",
       "                                    low-estimated      11      11.05\n",
       "                                    mid-estimated      12      20.96\n",
       "Health                              high-estimated     17     101.75\n",
       "                                    low-estimated      17      17.04\n",
       "                                    mid-estimated      29      47.47\n",
       "Internet software & services        high-estimated     39     277.27\n",
       "                                    low-estimated      32      32.05\n",
       "                                    mid-estimated      96     174.44\n",
       "Mobile & telecommunications         high-estimated      8      38.59\n",
       "                                    low-estimated      14      14.05\n",
       "                                    mid-estimated      15      26.45\n",
       "Other                               high-estimated     12     186.90\n",
       "                                    low-estimated      12      12.00\n",
       "                                    mid-estimated      27      46.56\n",
       "Supply chain, logistics, & delivery high-estimated      7      86.05\n",
       "                                    low-estimated      20      20.06\n",
       "                                    mid-estimated      24      40.18\n",
       "Travel                              high-estimated      2      16.85\n",
       "                                    low-estimated       2       2.00\n",
       "                                    mid-estimated       9      16.75"
      ]
     },
     "execution_count": 62,
     "metadata": {},
     "output_type": "execute_result"
    }
   ],
   "source": [
    "startups.groupby(['industry', 'category'])\\\n",
    ".agg(**{'count': ('valuation', 'count'), 'sum_value' : ('valuation', 'sum')})"
   ]
  },
  {
   "cell_type": "markdown",
   "id": "bef77d58",
   "metadata": {},
   "source": [
    "   <font color = '#0158e3'> *С помощью этой таблички мы можем наглядно посмотреть какая категория стартапов по оценке преобладает в каждой индустрии и по количеству, и по суммарной стоимости*"
   ]
  },
  {
   "cell_type": "markdown",
   "id": "b462765d",
   "metadata": {},
   "source": [
    "<font color = '#191970'> *Глобальный вывод по анализу индустрий стартапов:*\n",
    "    <br> *Больше всего стартапов было создано в отраслях - финтех, ПО и услуги, e-commerce & direct-to-consumer. Меньше всего стартапов в индустрии путешествий.*\n",
    "    <br> *По суммарной оценке топ отраслей - это финтех, ПО и услуги и ИИ, индустрия e-commerce & direct-to-consumer в этот топ не входит, хотя число стартапов там больше, чем в индустрии ИИ.*\n",
    "    <br> *Средняя стоимость стартапов выше всего в индустрии \"другое\", ИИ и финтех. Первым двум индустриям как раз принадлежат стартапы с самой максимальной оценкой. Самая низкая средняя стоимость у стартапов индустрии мобайл и телекоммуникации.*\n",
    "    "
   ]
  },
  {
   "cell_type": "markdown",
   "id": "da186a3a",
   "metadata": {},
   "source": [
    " "
   ]
  },
  {
   "cell_type": "markdown",
   "id": "d0f751b5",
   "metadata": {},
   "source": [
    "# <font color = '#f364a2'> Анализ стартапов по странам"
   ]
  },
  {
   "cell_type": "markdown",
   "id": "3b91dc10",
   "metadata": {},
   "source": [
    "### №1 Количество, суммарная оценка, средняя, минимальная и максимальная оценки стартапов по странам"
   ]
  },
  {
   "cell_type": "code",
   "execution_count": 63,
   "id": "83b03bd5",
   "metadata": {
    "scrolled": true
   },
   "outputs": [
    {
     "data": {
      "text/html": [
       "<div>\n",
       "<style scoped>\n",
       "    .dataframe tbody tr th:only-of-type {\n",
       "        vertical-align: middle;\n",
       "    }\n",
       "\n",
       "    .dataframe tbody tr th {\n",
       "        vertical-align: top;\n",
       "    }\n",
       "\n",
       "    .dataframe thead th {\n",
       "        text-align: right;\n",
       "    }\n",
       "</style>\n",
       "<table border=\"1\" class=\"dataframe\">\n",
       "  <thead>\n",
       "    <tr style=\"text-align: right;\">\n",
       "      <th></th>\n",
       "      <th>count</th>\n",
       "      <th>sum_value</th>\n",
       "      <th>mean_value</th>\n",
       "      <th>min_value</th>\n",
       "      <th>max_value</th>\n",
       "    </tr>\n",
       "    <tr>\n",
       "      <th>country</th>\n",
       "      <th></th>\n",
       "      <th></th>\n",
       "      <th></th>\n",
       "      <th></th>\n",
       "      <th></th>\n",
       "    </tr>\n",
       "  </thead>\n",
       "  <tbody>\n",
       "    <tr>\n",
       "      <th>United States</th>\n",
       "      <td>478</td>\n",
       "      <td>1605.03</td>\n",
       "      <td>3.357803</td>\n",
       "      <td>1.00</td>\n",
       "      <td>100.30</td>\n",
       "    </tr>\n",
       "    <tr>\n",
       "      <th>China</th>\n",
       "      <td>169</td>\n",
       "      <td>569.48</td>\n",
       "      <td>3.369704</td>\n",
       "      <td>1.00</td>\n",
       "      <td>140.00</td>\n",
       "    </tr>\n",
       "    <tr>\n",
       "      <th>India</th>\n",
       "      <td>51</td>\n",
       "      <td>148.45</td>\n",
       "      <td>2.910784</td>\n",
       "      <td>1.00</td>\n",
       "      <td>21.00</td>\n",
       "    </tr>\n",
       "    <tr>\n",
       "      <th>United Kingdom</th>\n",
       "      <td>37</td>\n",
       "      <td>150.29</td>\n",
       "      <td>4.061892</td>\n",
       "      <td>1.00</td>\n",
       "      <td>33.00</td>\n",
       "    </tr>\n",
       "    <tr>\n",
       "      <th>Germany</th>\n",
       "      <td>23</td>\n",
       "      <td>66.63</td>\n",
       "      <td>2.896957</td>\n",
       "      <td>1.00</td>\n",
       "      <td>11.00</td>\n",
       "    </tr>\n",
       "    <tr>\n",
       "      <th>Israel</th>\n",
       "      <td>21</td>\n",
       "      <td>43.82</td>\n",
       "      <td>2.086667</td>\n",
       "      <td>1.00</td>\n",
       "      <td>6.00</td>\n",
       "    </tr>\n",
       "    <tr>\n",
       "      <th>France</th>\n",
       "      <td>19</td>\n",
       "      <td>35.61</td>\n",
       "      <td>1.874211</td>\n",
       "      <td>1.00</td>\n",
       "      <td>4.30</td>\n",
       "    </tr>\n",
       "    <tr>\n",
       "      <th>Brazil</th>\n",
       "      <td>15</td>\n",
       "      <td>61.05</td>\n",
       "      <td>4.070000</td>\n",
       "      <td>1.00</td>\n",
       "      <td>30.00</td>\n",
       "    </tr>\n",
       "    <tr>\n",
       "      <th>Canada</th>\n",
       "      <td>15</td>\n",
       "      <td>37.73</td>\n",
       "      <td>2.515333</td>\n",
       "      <td>1.00</td>\n",
       "      <td>7.60</td>\n",
       "    </tr>\n",
       "    <tr>\n",
       "      <th>South Korea</th>\n",
       "      <td>11</td>\n",
       "      <td>24.69</td>\n",
       "      <td>2.244545</td>\n",
       "      <td>1.00</td>\n",
       "      <td>7.40</td>\n",
       "    </tr>\n",
       "    <tr>\n",
       "      <th>Singapore</th>\n",
       "      <td>11</td>\n",
       "      <td>14.90</td>\n",
       "      <td>1.354545</td>\n",
       "      <td>1.00</td>\n",
       "      <td>3.50</td>\n",
       "    </tr>\n",
       "    <tr>\n",
       "      <th>Hong Kong</th>\n",
       "      <td>7</td>\n",
       "      <td>41.45</td>\n",
       "      <td>5.921429</td>\n",
       "      <td>1.00</td>\n",
       "      <td>25.00</td>\n",
       "    </tr>\n",
       "    <tr>\n",
       "      <th>Australia</th>\n",
       "      <td>6</td>\n",
       "      <td>50.60</td>\n",
       "      <td>8.433333</td>\n",
       "      <td>1.00</td>\n",
       "      <td>40.00</td>\n",
       "    </tr>\n",
       "    <tr>\n",
       "      <th>Japan</th>\n",
       "      <td>6</td>\n",
       "      <td>8.82</td>\n",
       "      <td>1.470000</td>\n",
       "      <td>1.00</td>\n",
       "      <td>2.00</td>\n",
       "    </tr>\n",
       "    <tr>\n",
       "      <th>Indonesia</th>\n",
       "      <td>5</td>\n",
       "      <td>27.90</td>\n",
       "      <td>5.580000</td>\n",
       "      <td>1.00</td>\n",
       "      <td>20.00</td>\n",
       "    </tr>\n",
       "    <tr>\n",
       "      <th>Netherlands</th>\n",
       "      <td>5</td>\n",
       "      <td>14.30</td>\n",
       "      <td>2.860000</td>\n",
       "      <td>1.00</td>\n",
       "      <td>6.50</td>\n",
       "    </tr>\n",
       "    <tr>\n",
       "      <th>Mexico</th>\n",
       "      <td>5</td>\n",
       "      <td>15.20</td>\n",
       "      <td>3.040000</td>\n",
       "      <td>1.00</td>\n",
       "      <td>8.70</td>\n",
       "    </tr>\n",
       "    <tr>\n",
       "      <th>Switzerland</th>\n",
       "      <td>4</td>\n",
       "      <td>5.60</td>\n",
       "      <td>1.400000</td>\n",
       "      <td>1.00</td>\n",
       "      <td>2.50</td>\n",
       "    </tr>\n",
       "    <tr>\n",
       "      <th>Spain</th>\n",
       "      <td>4</td>\n",
       "      <td>5.95</td>\n",
       "      <td>1.487500</td>\n",
       "      <td>1.00</td>\n",
       "      <td>2.35</td>\n",
       "    </tr>\n",
       "    <tr>\n",
       "      <th>Sweden</th>\n",
       "      <td>4</td>\n",
       "      <td>58.08</td>\n",
       "      <td>14.520000</td>\n",
       "      <td>1.40</td>\n",
       "      <td>45.60</td>\n",
       "    </tr>\n",
       "    <tr>\n",
       "      <th>Norway</th>\n",
       "      <td>3</td>\n",
       "      <td>3.80</td>\n",
       "      <td>1.266667</td>\n",
       "      <td>1.00</td>\n",
       "      <td>1.60</td>\n",
       "    </tr>\n",
       "    <tr>\n",
       "      <th>United Arab Emirates</th>\n",
       "      <td>3</td>\n",
       "      <td>4.50</td>\n",
       "      <td>1.500000</td>\n",
       "      <td>1.00</td>\n",
       "      <td>2.50</td>\n",
       "    </tr>\n",
       "    <tr>\n",
       "      <th>Ireland</th>\n",
       "      <td>3</td>\n",
       "      <td>6.20</td>\n",
       "      <td>2.066667</td>\n",
       "      <td>1.00</td>\n",
       "      <td>4.00</td>\n",
       "    </tr>\n",
       "    <tr>\n",
       "      <th>Philippines</th>\n",
       "      <td>2</td>\n",
       "      <td>3.00</td>\n",
       "      <td>1.500000</td>\n",
       "      <td>1.00</td>\n",
       "      <td>2.00</td>\n",
       "    </tr>\n",
       "    <tr>\n",
       "      <th>Austria</th>\n",
       "      <td>2</td>\n",
       "      <td>5.81</td>\n",
       "      <td>2.905000</td>\n",
       "      <td>1.70</td>\n",
       "      <td>4.11</td>\n",
       "    </tr>\n",
       "    <tr>\n",
       "      <th>Finland</th>\n",
       "      <td>2</td>\n",
       "      <td>3.00</td>\n",
       "      <td>1.500000</td>\n",
       "      <td>1.00</td>\n",
       "      <td>2.00</td>\n",
       "    </tr>\n",
       "    <tr>\n",
       "      <th>Thailand</th>\n",
       "      <td>2</td>\n",
       "      <td>2.50</td>\n",
       "      <td>1.250000</td>\n",
       "      <td>1.00</td>\n",
       "      <td>1.50</td>\n",
       "    </tr>\n",
       "    <tr>\n",
       "      <th>Belgium</th>\n",
       "      <td>2</td>\n",
       "      <td>7.55</td>\n",
       "      <td>3.775000</td>\n",
       "      <td>2.30</td>\n",
       "      <td>5.25</td>\n",
       "    </tr>\n",
       "    <tr>\n",
       "      <th>Colombia</th>\n",
       "      <td>2</td>\n",
       "      <td>6.40</td>\n",
       "      <td>3.200000</td>\n",
       "      <td>1.15</td>\n",
       "      <td>5.25</td>\n",
       "    </tr>\n",
       "    <tr>\n",
       "      <th>Turkey</th>\n",
       "      <td>2</td>\n",
       "      <td>8.50</td>\n",
       "      <td>4.250000</td>\n",
       "      <td>1.00</td>\n",
       "      <td>7.50</td>\n",
       "    </tr>\n",
       "    <tr>\n",
       "      <th>Denmark</th>\n",
       "      <td>2</td>\n",
       "      <td>2.70</td>\n",
       "      <td>1.350000</td>\n",
       "      <td>1.00</td>\n",
       "      <td>1.70</td>\n",
       "    </tr>\n",
       "    <tr>\n",
       "      <th>South Africa</th>\n",
       "      <td>2</td>\n",
       "      <td>2.59</td>\n",
       "      <td>1.295000</td>\n",
       "      <td>1.00</td>\n",
       "      <td>1.59</td>\n",
       "    </tr>\n",
       "    <tr>\n",
       "      <th>Argentina</th>\n",
       "      <td>1</td>\n",
       "      <td>2.45</td>\n",
       "      <td>2.450000</td>\n",
       "      <td>2.45</td>\n",
       "      <td>2.45</td>\n",
       "    </tr>\n",
       "    <tr>\n",
       "      <th>Senegal</th>\n",
       "      <td>1</td>\n",
       "      <td>1.70</td>\n",
       "      <td>1.700000</td>\n",
       "      <td>1.70</td>\n",
       "      <td>1.70</td>\n",
       "    </tr>\n",
       "    <tr>\n",
       "      <th>Santa Clara</th>\n",
       "      <td>1</td>\n",
       "      <td>2.00</td>\n",
       "      <td>2.000000</td>\n",
       "      <td>2.00</td>\n",
       "      <td>2.00</td>\n",
       "    </tr>\n",
       "    <tr>\n",
       "      <th>Nigeria</th>\n",
       "      <td>1</td>\n",
       "      <td>2.00</td>\n",
       "      <td>2.000000</td>\n",
       "      <td>2.00</td>\n",
       "      <td>2.00</td>\n",
       "    </tr>\n",
       "    <tr>\n",
       "      <th>Malaysia</th>\n",
       "      <td>1</td>\n",
       "      <td>1.30</td>\n",
       "      <td>1.300000</td>\n",
       "      <td>1.30</td>\n",
       "      <td>1.30</td>\n",
       "    </tr>\n",
       "    <tr>\n",
       "      <th>Luxembourg</th>\n",
       "      <td>1</td>\n",
       "      <td>2.00</td>\n",
       "      <td>2.000000</td>\n",
       "      <td>2.00</td>\n",
       "      <td>2.00</td>\n",
       "    </tr>\n",
       "    <tr>\n",
       "      <th>Lithuania</th>\n",
       "      <td>1</td>\n",
       "      <td>4.53</td>\n",
       "      <td>4.530000</td>\n",
       "      <td>4.53</td>\n",
       "      <td>4.53</td>\n",
       "    </tr>\n",
       "    <tr>\n",
       "      <th>Estonia</th>\n",
       "      <td>1</td>\n",
       "      <td>4.75</td>\n",
       "      <td>4.750000</td>\n",
       "      <td>4.75</td>\n",
       "      <td>4.75</td>\n",
       "    </tr>\n",
       "    <tr>\n",
       "      <th>Czech Republic</th>\n",
       "      <td>1</td>\n",
       "      <td>1.20</td>\n",
       "      <td>1.200000</td>\n",
       "      <td>1.20</td>\n",
       "      <td>1.20</td>\n",
       "    </tr>\n",
       "    <tr>\n",
       "      <th>Croatia</th>\n",
       "      <td>1</td>\n",
       "      <td>1.00</td>\n",
       "      <td>1.000000</td>\n",
       "      <td>1.00</td>\n",
       "      <td>1.00</td>\n",
       "    </tr>\n",
       "    <tr>\n",
       "      <th>Chile</th>\n",
       "      <td>1</td>\n",
       "      <td>1.50</td>\n",
       "      <td>1.500000</td>\n",
       "      <td>1.50</td>\n",
       "      <td>1.50</td>\n",
       "    </tr>\n",
       "    <tr>\n",
       "      <th>Bermuda</th>\n",
       "      <td>1</td>\n",
       "      <td>1.60</td>\n",
       "      <td>1.600000</td>\n",
       "      <td>1.60</td>\n",
       "      <td>1.60</td>\n",
       "    </tr>\n",
       "    <tr>\n",
       "      <th>Vietnam</th>\n",
       "      <td>1</td>\n",
       "      <td>3.00</td>\n",
       "      <td>3.000000</td>\n",
       "      <td>3.00</td>\n",
       "      <td>3.00</td>\n",
       "    </tr>\n",
       "  </tbody>\n",
       "</table>\n",
       "</div>"
      ],
      "text/plain": [
       "                      count  sum_value  mean_value  min_value  max_value\n",
       "country                                                                 \n",
       "United States           478    1605.03    3.357803       1.00     100.30\n",
       "China                   169     569.48    3.369704       1.00     140.00\n",
       "India                    51     148.45    2.910784       1.00      21.00\n",
       "United Kingdom           37     150.29    4.061892       1.00      33.00\n",
       "Germany                  23      66.63    2.896957       1.00      11.00\n",
       "Israel                   21      43.82    2.086667       1.00       6.00\n",
       "France                   19      35.61    1.874211       1.00       4.30\n",
       "Brazil                   15      61.05    4.070000       1.00      30.00\n",
       "Canada                   15      37.73    2.515333       1.00       7.60\n",
       "South Korea              11      24.69    2.244545       1.00       7.40\n",
       "Singapore                11      14.90    1.354545       1.00       3.50\n",
       "Hong Kong                 7      41.45    5.921429       1.00      25.00\n",
       "Australia                 6      50.60    8.433333       1.00      40.00\n",
       "Japan                     6       8.82    1.470000       1.00       2.00\n",
       "Indonesia                 5      27.90    5.580000       1.00      20.00\n",
       "Netherlands               5      14.30    2.860000       1.00       6.50\n",
       "Mexico                    5      15.20    3.040000       1.00       8.70\n",
       "Switzerland               4       5.60    1.400000       1.00       2.50\n",
       "Spain                     4       5.95    1.487500       1.00       2.35\n",
       "Sweden                    4      58.08   14.520000       1.40      45.60\n",
       "Norway                    3       3.80    1.266667       1.00       1.60\n",
       "United Arab Emirates      3       4.50    1.500000       1.00       2.50\n",
       "Ireland                   3       6.20    2.066667       1.00       4.00\n",
       "Philippines               2       3.00    1.500000       1.00       2.00\n",
       "Austria                   2       5.81    2.905000       1.70       4.11\n",
       "Finland                   2       3.00    1.500000       1.00       2.00\n",
       "Thailand                  2       2.50    1.250000       1.00       1.50\n",
       "Belgium                   2       7.55    3.775000       2.30       5.25\n",
       "Colombia                  2       6.40    3.200000       1.15       5.25\n",
       "Turkey                    2       8.50    4.250000       1.00       7.50\n",
       "Denmark                   2       2.70    1.350000       1.00       1.70\n",
       "South Africa              2       2.59    1.295000       1.00       1.59\n",
       "Argentina                 1       2.45    2.450000       2.45       2.45\n",
       "Senegal                   1       1.70    1.700000       1.70       1.70\n",
       "Santa Clara               1       2.00    2.000000       2.00       2.00\n",
       "Nigeria                   1       2.00    2.000000       2.00       2.00\n",
       "Malaysia                  1       1.30    1.300000       1.30       1.30\n",
       "Luxembourg                1       2.00    2.000000       2.00       2.00\n",
       "Lithuania                 1       4.53    4.530000       4.53       4.53\n",
       "Estonia                   1       4.75    4.750000       4.75       4.75\n",
       "Czech Republic            1       1.20    1.200000       1.20       1.20\n",
       "Croatia                   1       1.00    1.000000       1.00       1.00\n",
       "Chile                     1       1.50    1.500000       1.50       1.50\n",
       "Bermuda                   1       1.60    1.600000       1.60       1.60\n",
       "Vietnam                   1       3.00    3.000000       3.00       3.00"
      ]
     },
     "execution_count": 63,
     "metadata": {},
     "output_type": "execute_result"
    }
   ],
   "source": [
    "startups.groupby('country')\\\n",
    ".agg(**{'count' : ('valuation', 'count'), 'sum_value' : ('valuation', 'sum'), 'mean_value' : ('valuation', 'mean'),\n",
    "        'min_value' : ('valuation', 'min'), 'max_value' : ('valuation', 'max')})\\\n",
    ".sort_values('count', ascending = False)"
   ]
  },
  {
   "cell_type": "code",
   "execution_count": 64,
   "id": "7a85aeb4",
   "metadata": {},
   "outputs": [],
   "source": [
    "countries = startups.groupby('country')\\\n",
    ".agg({'valuation':'count'})\\\n",
    ".sort_values('valuation', ascending = False)"
   ]
  },
  {
   "cell_type": "code",
   "execution_count": 65,
   "id": "2b3d56ed",
   "metadata": {
    "scrolled": true
   },
   "outputs": [
    {
     "data": {
      "image/png": "[encoded data removed]",
      "text/plain": [
       "<Figure size 1440x1080 with 1 Axes>"
      ]
     },
     "metadata": {
      "needs_background": "light"
     },
     "output_type": "display_data"
    }
   ],
   "source": [
    "plt.figure(figsize = (20,15))\n",
    "plt.title('Число стартапов по странам', fontsize = 20)\n",
    "sns.barplot(y = countries.index, x = countries.valuation, alpha = 1)\n",
    "plt.show()"
   ]
  },
  {
   "cell_type": "markdown",
   "id": "6160501b",
   "metadata": {},
   "source": [
    "   <font color = '#0158e3'> *Больше всего стартапов зарегистрировано в США, при этом их число превышает почти в 3 раза количество стартапов у ближайшего конкурента - Китая. Суммарная оценка стартапов также выше всего в США, однако средняя стоимость стартапов выше в Китае и там же находится самый дорогой стартап.*\n",
    "   <br> *В целом лидерами по числу стартапов являются 3 страны - США, Китай и Индия.*"
   ]
  },
  {
   "cell_type": "markdown",
   "id": "f9ea288f",
   "metadata": {},
   "source": [
    "### №2 Какие индустрии стартапов преобладают в ТОП-3 странах с их наибольшим числом"
   ]
  },
  {
   "cell_type": "code",
   "execution_count": 66,
   "id": "26dbfe92",
   "metadata": {},
   "outputs": [
    {
     "data": {
      "text/html": [
       "<div>\n",
       "<style scoped>\n",
       "    .dataframe tbody tr th:only-of-type {\n",
       "        vertical-align: middle;\n",
       "    }\n",
       "\n",
       "    .dataframe tbody tr th {\n",
       "        vertical-align: top;\n",
       "    }\n",
       "\n",
       "    .dataframe thead tr th {\n",
       "        text-align: left;\n",
       "    }\n",
       "\n",
       "    .dataframe thead tr:last-of-type th {\n",
       "        text-align: right;\n",
       "    }\n",
       "</style>\n",
       "<table border=\"1\" class=\"dataframe\">\n",
       "  <thead>\n",
       "    <tr>\n",
       "      <th></th>\n",
       "      <th colspan=\"3\" halign=\"left\">company</th>\n",
       "    </tr>\n",
       "    <tr>\n",
       "      <th>country</th>\n",
       "      <th>China</th>\n",
       "      <th>India</th>\n",
       "      <th>United States</th>\n",
       "    </tr>\n",
       "    <tr>\n",
       "      <th>industry</th>\n",
       "      <th></th>\n",
       "      <th></th>\n",
       "      <th></th>\n",
       "    </tr>\n",
       "  </thead>\n",
       "  <tbody>\n",
       "    <tr>\n",
       "      <th>Artificial Intelligence</th>\n",
       "      <td>11.0</td>\n",
       "      <td>0.0</td>\n",
       "      <td>8.0</td>\n",
       "    </tr>\n",
       "    <tr>\n",
       "      <th>Auto &amp; transportation</th>\n",
       "      <td>10.0</td>\n",
       "      <td>4.0</td>\n",
       "      <td>1.0</td>\n",
       "    </tr>\n",
       "    <tr>\n",
       "      <th>Consumer &amp; retail</th>\n",
       "      <td>5.0</td>\n",
       "      <td>0.0</td>\n",
       "      <td>2.0</td>\n",
       "    </tr>\n",
       "    <tr>\n",
       "      <th>Cybersecurity</th>\n",
       "      <td>1.0</td>\n",
       "      <td>0.0</td>\n",
       "      <td>6.0</td>\n",
       "    </tr>\n",
       "    <tr>\n",
       "      <th>Data management &amp; analytics</th>\n",
       "      <td>1.0</td>\n",
       "      <td>0.0</td>\n",
       "      <td>6.0</td>\n",
       "    </tr>\n",
       "    <tr>\n",
       "      <th>E-commerce &amp; direct-to-consumer</th>\n",
       "      <td>18.0</td>\n",
       "      <td>24.0</td>\n",
       "      <td>6.0</td>\n",
       "    </tr>\n",
       "    <tr>\n",
       "      <th>Edtech</th>\n",
       "      <td>7.0</td>\n",
       "      <td>10.0</td>\n",
       "      <td>1.0</td>\n",
       "    </tr>\n",
       "    <tr>\n",
       "      <th>Fintech</th>\n",
       "      <td>5.0</td>\n",
       "      <td>24.0</td>\n",
       "      <td>21.0</td>\n",
       "    </tr>\n",
       "    <tr>\n",
       "      <th>Hardware</th>\n",
       "      <td>10.0</td>\n",
       "      <td>0.0</td>\n",
       "      <td>2.0</td>\n",
       "    </tr>\n",
       "    <tr>\n",
       "      <th>Health</th>\n",
       "      <td>5.0</td>\n",
       "      <td>4.0</td>\n",
       "      <td>9.0</td>\n",
       "    </tr>\n",
       "    <tr>\n",
       "      <th>Internet software &amp; services</th>\n",
       "      <td>8.0</td>\n",
       "      <td>16.0</td>\n",
       "      <td>26.0</td>\n",
       "    </tr>\n",
       "    <tr>\n",
       "      <th>Mobile &amp; telecommunications</th>\n",
       "      <td>8.0</td>\n",
       "      <td>2.0</td>\n",
       "      <td>3.0</td>\n",
       "    </tr>\n",
       "    <tr>\n",
       "      <th>Other</th>\n",
       "      <td>3.0</td>\n",
       "      <td>4.0</td>\n",
       "      <td>5.0</td>\n",
       "    </tr>\n",
       "    <tr>\n",
       "      <th>Supply chain, logistics, &amp; delivery</th>\n",
       "      <td>7.0</td>\n",
       "      <td>12.0</td>\n",
       "      <td>4.0</td>\n",
       "    </tr>\n",
       "    <tr>\n",
       "      <th>Travel</th>\n",
       "      <td>2.0</td>\n",
       "      <td>2.0</td>\n",
       "      <td>0.0</td>\n",
       "    </tr>\n",
       "  </tbody>\n",
       "</table>\n",
       "</div>"
      ],
      "text/plain": [
       "                                    company                    \n",
       "country                               China India United States\n",
       "industry                                                       \n",
       "Artificial Intelligence                11.0   0.0           8.0\n",
       "Auto & transportation                  10.0   4.0           1.0\n",
       "Consumer & retail                       5.0   0.0           2.0\n",
       "Cybersecurity                           1.0   0.0           6.0\n",
       "Data management & analytics             1.0   0.0           6.0\n",
       "E-commerce & direct-to-consumer        18.0  24.0           6.0\n",
       "Edtech                                  7.0  10.0           1.0\n",
       "Fintech                                 5.0  24.0          21.0\n",
       "Hardware                               10.0   0.0           2.0\n",
       "Health                                  5.0   4.0           9.0\n",
       "Internet software & services            8.0  16.0          26.0\n",
       "Mobile & telecommunications             8.0   2.0           3.0\n",
       "Other                                   3.0   4.0           5.0\n",
       "Supply chain, logistics, & delivery     7.0  12.0           4.0\n",
       "Travel                                  2.0   2.0           0.0"
      ]
     },
     "execution_count": 66,
     "metadata": {},
     "output_type": "execute_result"
    }
   ],
   "source": [
    "country_industries = startups[startups['country'].isin(['United States', 'China', 'India'])]\\\n",
    ".groupby(['industry', 'country'])\\\n",
    ".agg({'company' : 'count'})\\\n",
    ".unstack()\n",
    "(country_industries / country_industries.sum() * 100).round()"
   ]
  },
  {
   "cell_type": "markdown",
   "id": "83576f57",
   "metadata": {},
   "source": [
    "<font color = '#0158e3'> *В США преобладают стартапы индустрий ПО и услуги (26%) и Финтех (21%).*\n",
    "    <br>*В Китае преобладают стартапы индустрии E-commerce & direct-to-consumer (18%).*\n",
    "    <br>*В Индии преобладают стартапы индустрий E-commerce & direct-to-consumer (24%) и Финтех (24%).*\n",
    "    <br>*Исходя из процентного соотношения индустрий в этих 3 странах, можем сказать, что в Китае менее всего выражена специализация и концентрация стартапов на 1-2 индустриях, в Китае стартапы более разноплановые.*"
   ]
  },
  {
   "cell_type": "markdown",
   "id": "a1d7e495",
   "metadata": {},
   "source": [
    "### №3 Вывод данных о самом дорогом стартапе в каждой стране"
   ]
  },
  {
   "cell_type": "code",
   "execution_count": 67,
   "id": "49c724a2",
   "metadata": {
    "scrolled": true
   },
   "outputs": [
    {
     "name": "stdout",
     "output_type": "stream",
     "text": [
      "Самый дорогой стартап в China - это Bytedance.\n",
      "Самый дорогой стартап в United States - это SpaceX.\n",
      "Самый дорогой стартап в Sweden - это Klarna.\n",
      "Самый дорогой стартап в Australia - это Canva.\n",
      "Самый дорогой стартап в United Kingdom - это Revolut.\n",
      "Самый дорогой стартап в Brazil - это Nubank.\n",
      "Самый дорогой стартап в Hong Kong - это FTX.\n",
      "Самый дорогой стартап в India - это BYJU's.\n",
      "Самый дорогой стартап в Indonesia - это J&T Express.\n",
      "Самый дорогой стартап в Germany - это Celonis.\n",
      "Самый дорогой стартап в Mexico - это Kavak.\n",
      "Самый дорогой стартап в Canada - это Dapper Labs.\n",
      "Самый дорогой стартап в Turkey - это Getir.\n",
      "Самый дорогой стартап в South Korea - это Toss.\n",
      "Самый дорогой стартап в Netherlands - это Mollie.\n",
      "Самый дорогой стартап в Israel - это Wiz.\n",
      "Самый дорогой стартап в Colombia - это Rappi.\n",
      "Самый дорогой стартап в Belgium - это Collibra.\n",
      "Самый дорогой стартап в Lithuania - это Vinted.\n",
      "Самый дорогой стартап в Estonia - это Bolt.\n",
      "Самый дорогой стартап в France - это Sorare.\n",
      "Самый дорогой стартап в Austria - это BitPanda.\n",
      "Самый дорогой стартап в Ireland - это BrowserStack.\n",
      "Самый дорогой стартап в Singapore - это HyalRoute.\n",
      "Самый дорогой стартап в Vietnam - это Sky Mavis.\n",
      "Самый дорогой стартап в United Arab Emirates - это Vista Global.\n",
      "Самый дорогой стартап в Switzerland - это Acronis.\n",
      "Самый дорогой стартап в Argentina - это Uala.\n",
      "Самый дорогой стартап в Spain - это Jobandtalent.\n",
      "Самый дорогой стартап в Japan - это Preferred Networks.\n",
      "Самый дорогой стартап в Luxembourg - это OCSiAl.\n",
      "Самый дорогой стартап в Nigeria - это Opay.\n",
      "Самый дорогой стартап в Santa Clara - это Aviatrix.\n",
      "Самый дорогой стартап в Finland - это Aiven.\n",
      "Самый дорогой стартап в Philippines - это Mynt.\n",
      "Самый дорогой стартап в Denmark - это Pleo.\n",
      "Самый дорогой стартап в Senegal - это Wave.\n",
      "Самый дорогой стартап в Bermuda - это Afiniti.\n",
      "Самый дорогой стартап в Norway - это Cognite.\n",
      "Самый дорогой стартап в South Africa - это Promasidor Holdings.\n",
      "Самый дорогой стартап в Chile - это NotCo.\n",
      "Самый дорогой стартап в Thailand - это Ascend Money.\n",
      "Самый дорогой стартап в Malaysia - это Carsome.\n",
      "Самый дорогой стартап в Czech Republic - это Rohlik.\n",
      "Самый дорогой стартап в Croatia - это Infobip.\n"
     ]
    }
   ],
   "source": [
    "for country in startups.country.unique():\n",
    "    print('Самый дорогой стартап в {} - это {}.'.format(country, startups[startups.country == country].sort_values('valuation', ascending=False)['company'].tolist()[0]))"
   ]
  },
  {
   "cell_type": "markdown",
   "id": "f42a40bb",
   "metadata": {},
   "source": [
    "# <font color = '#f364a2'> Анализ стартапов по городам"
   ]
  },
  {
   "cell_type": "markdown",
   "id": "2e123dde",
   "metadata": {},
   "source": [
    "### №1 Количество, суммарная оценка, средняя, минимальная и максимальная оценки стартапов по городам"
   ]
  },
  {
   "cell_type": "markdown",
   "id": "997630fe",
   "metadata": {},
   "source": [
    "  <font color = '#0158e3'> *Как мы помним, у нас были пропущенные данные по городам. Можно вывести строки, где пропущены названия городов и проставить значения.*"
   ]
  },
  {
   "cell_type": "code",
   "execution_count": 68,
   "id": "7fe02664",
   "metadata": {},
   "outputs": [
    {
     "data": {
      "text/html": [
       "<div>\n",
       "<style scoped>\n",
       "    .dataframe tbody tr th:only-of-type {\n",
       "        vertical-align: middle;\n",
       "    }\n",
       "\n",
       "    .dataframe tbody tr th {\n",
       "        vertical-align: top;\n",
       "    }\n",
       "\n",
       "    .dataframe thead th {\n",
       "        text-align: right;\n",
       "    }\n",
       "</style>\n",
       "<table border=\"1\" class=\"dataframe\">\n",
       "  <thead>\n",
       "    <tr style=\"text-align: right;\">\n",
       "      <th></th>\n",
       "      <th>company</th>\n",
       "      <th>valuation</th>\n",
       "      <th>date</th>\n",
       "      <th>country</th>\n",
       "      <th>city</th>\n",
       "      <th>industry</th>\n",
       "      <th>investors</th>\n",
       "      <th>category</th>\n",
       "    </tr>\n",
       "  </thead>\n",
       "  <tbody>\n",
       "    <tr>\n",
       "      <th>11</th>\n",
       "      <td>FTX</td>\n",
       "      <td>25.0</td>\n",
       "      <td>2021-07-20</td>\n",
       "      <td>Hong Kong</td>\n",
       "      <td>NaN</td>\n",
       "      <td>Fintech</td>\n",
       "      <td>0      Sequoia Capital China, SIG Asia Investm...</td>\n",
       "      <td>high-estimated</td>\n",
       "    </tr>\n",
       "    <tr>\n",
       "      <th>192</th>\n",
       "      <td>HyalRoute</td>\n",
       "      <td>3.5</td>\n",
       "      <td>2020-05-26</td>\n",
       "      <td>Singapore</td>\n",
       "      <td>NaN</td>\n",
       "      <td>Mobile &amp; telecommunications</td>\n",
       "      <td>0      Sequoia Capital China, SIG Asia Investm...</td>\n",
       "      <td>high-estimated</td>\n",
       "    </tr>\n",
       "    <tr>\n",
       "      <th>399</th>\n",
       "      <td>Advance Intelligence Group</td>\n",
       "      <td>2.0</td>\n",
       "      <td>2021-09-23</td>\n",
       "      <td>Singapore</td>\n",
       "      <td>NaN</td>\n",
       "      <td>Artificial Intelligence</td>\n",
       "      <td>0      Sequoia Capital China, SIG Asia Investm...</td>\n",
       "      <td>mid-estimated</td>\n",
       "    </tr>\n",
       "    <tr>\n",
       "      <th>572</th>\n",
       "      <td>Trax</td>\n",
       "      <td>1.3</td>\n",
       "      <td>2019-07-22</td>\n",
       "      <td>Singapore</td>\n",
       "      <td>NaN</td>\n",
       "      <td>Artificial Intelligence</td>\n",
       "      <td>0      Sequoia Capital China, SIG Asia Investm...</td>\n",
       "      <td>mid-estimated</td>\n",
       "    </tr>\n",
       "    <tr>\n",
       "      <th>677</th>\n",
       "      <td>Amber Group</td>\n",
       "      <td>1.1</td>\n",
       "      <td>2021-06-21</td>\n",
       "      <td>Hong Kong</td>\n",
       "      <td>NaN</td>\n",
       "      <td>Fintech</td>\n",
       "      <td>0      Sequoia Capital China, SIG Asia Investm...</td>\n",
       "      <td>mid-estimated</td>\n",
       "    </tr>\n",
       "    <tr>\n",
       "      <th>682</th>\n",
       "      <td>Carousell</td>\n",
       "      <td>1.1</td>\n",
       "      <td>2021-09-15</td>\n",
       "      <td>Singapore</td>\n",
       "      <td>NaN</td>\n",
       "      <td>E-commerce &amp; direct-to-consumer</td>\n",
       "      <td>0      Sequoia Capital China, SIG Asia Investm...</td>\n",
       "      <td>mid-estimated</td>\n",
       "    </tr>\n",
       "    <tr>\n",
       "      <th>735</th>\n",
       "      <td>WeLab</td>\n",
       "      <td>1.0</td>\n",
       "      <td>2017-11-08</td>\n",
       "      <td>Hong Kong</td>\n",
       "      <td>NaN</td>\n",
       "      <td>Fintech</td>\n",
       "      <td>0      Sequoia Capital China, SIG Asia Investm...</td>\n",
       "      <td>low-estimated</td>\n",
       "    </tr>\n",
       "    <tr>\n",
       "      <th>812</th>\n",
       "      <td>PatSnap</td>\n",
       "      <td>1.0</td>\n",
       "      <td>2021-03-16</td>\n",
       "      <td>Singapore</td>\n",
       "      <td>NaN</td>\n",
       "      <td>Internet software &amp; services</td>\n",
       "      <td>0      Sequoia Capital China, SIG Asia Investm...</td>\n",
       "      <td>low-estimated</td>\n",
       "    </tr>\n",
       "    <tr>\n",
       "      <th>840</th>\n",
       "      <td>Moglix</td>\n",
       "      <td>1.0</td>\n",
       "      <td>2021-05-17</td>\n",
       "      <td>Singapore</td>\n",
       "      <td>NaN</td>\n",
       "      <td>E-commerce &amp; direct-to-consumer</td>\n",
       "      <td>0      Sequoia Capital China, SIG Asia Investm...</td>\n",
       "      <td>low-estimated</td>\n",
       "    </tr>\n",
       "    <tr>\n",
       "      <th>843</th>\n",
       "      <td>Matrixport</td>\n",
       "      <td>1.0</td>\n",
       "      <td>2021-06-01</td>\n",
       "      <td>Singapore</td>\n",
       "      <td>NaN</td>\n",
       "      <td>Fintech</td>\n",
       "      <td>0      Sequoia Capital China, SIG Asia Investm...</td>\n",
       "      <td>low-estimated</td>\n",
       "    </tr>\n",
       "    <tr>\n",
       "      <th>848</th>\n",
       "      <td>Carro</td>\n",
       "      <td>1.0</td>\n",
       "      <td>2021-06-14</td>\n",
       "      <td>Singapore</td>\n",
       "      <td>NaN</td>\n",
       "      <td>E-commerce &amp; direct-to-consumer</td>\n",
       "      <td>0      Sequoia Capital China, SIG Asia Investm...</td>\n",
       "      <td>low-estimated</td>\n",
       "    </tr>\n",
       "    <tr>\n",
       "      <th>861</th>\n",
       "      <td>bolttech</td>\n",
       "      <td>1.0</td>\n",
       "      <td>2021-07-01</td>\n",
       "      <td>Singapore</td>\n",
       "      <td>NaN</td>\n",
       "      <td>Fintech</td>\n",
       "      <td>0      Sequoia Capital China, SIG Asia Investm...</td>\n",
       "      <td>low-estimated</td>\n",
       "    </tr>\n",
       "    <tr>\n",
       "      <th>872</th>\n",
       "      <td>NIUM</td>\n",
       "      <td>1.0</td>\n",
       "      <td>2021-07-13</td>\n",
       "      <td>Singapore</td>\n",
       "      <td>NaN</td>\n",
       "      <td>Fintech</td>\n",
       "      <td>0      Sequoia Capital China, SIG Asia Investm...</td>\n",
       "      <td>low-estimated</td>\n",
       "    </tr>\n",
       "    <tr>\n",
       "      <th>885</th>\n",
       "      <td>Cider</td>\n",
       "      <td>1.0</td>\n",
       "      <td>2021-09-02</td>\n",
       "      <td>Hong Kong</td>\n",
       "      <td>NaN</td>\n",
       "      <td>E-commerce &amp; direct-to-consumer</td>\n",
       "      <td>0      Sequoia Capital China, SIG Asia Investm...</td>\n",
       "      <td>low-estimated</td>\n",
       "    </tr>\n",
       "    <tr>\n",
       "      <th>897</th>\n",
       "      <td>Ninja Van</td>\n",
       "      <td>1.0</td>\n",
       "      <td>2021-09-27</td>\n",
       "      <td>Singapore</td>\n",
       "      <td>NaN</td>\n",
       "      <td>Supply chain, logistics, &amp; delivery</td>\n",
       "      <td>0      Sequoia Capital China, SIG Asia Investm...</td>\n",
       "      <td>low-estimated</td>\n",
       "    </tr>\n",
       "  </tbody>\n",
       "</table>\n",
       "</div>"
      ],
      "text/plain": [
       "                        company  valuation       date    country city  \\\n",
       "11                          FTX       25.0 2021-07-20  Hong Kong  NaN   \n",
       "192                   HyalRoute        3.5 2020-05-26  Singapore  NaN   \n",
       "399  Advance Intelligence Group        2.0 2021-09-23  Singapore  NaN   \n",
       "572                        Trax        1.3 2019-07-22  Singapore  NaN   \n",
       "677                 Amber Group        1.1 2021-06-21  Hong Kong  NaN   \n",
       "682                   Carousell        1.1 2021-09-15  Singapore  NaN   \n",
       "735                       WeLab        1.0 2017-11-08  Hong Kong  NaN   \n",
       "812                     PatSnap        1.0 2021-03-16  Singapore  NaN   \n",
       "840                      Moglix        1.0 2021-05-17  Singapore  NaN   \n",
       "843                  Matrixport        1.0 2021-06-01  Singapore  NaN   \n",
       "848                       Carro        1.0 2021-06-14  Singapore  NaN   \n",
       "861                    bolttech        1.0 2021-07-01  Singapore  NaN   \n",
       "872                        NIUM        1.0 2021-07-13  Singapore  NaN   \n",
       "885                       Cider        1.0 2021-09-02  Hong Kong  NaN   \n",
       "897                   Ninja Van        1.0 2021-09-27  Singapore  NaN   \n",
       "\n",
       "                                industry  \\\n",
       "11                               Fintech   \n",
       "192          Mobile & telecommunications   \n",
       "399              Artificial Intelligence   \n",
       "572              Artificial Intelligence   \n",
       "677                              Fintech   \n",
       "682      E-commerce & direct-to-consumer   \n",
       "735                              Fintech   \n",
       "812         Internet software & services   \n",
       "840      E-commerce & direct-to-consumer   \n",
       "843                              Fintech   \n",
       "848      E-commerce & direct-to-consumer   \n",
       "861                              Fintech   \n",
       "872                              Fintech   \n",
       "885      E-commerce & direct-to-consumer   \n",
       "897  Supply chain, logistics, & delivery   \n",
       "\n",
       "                                             investors        category  \n",
       "11   0      Sequoia Capital China, SIG Asia Investm...  high-estimated  \n",
       "192  0      Sequoia Capital China, SIG Asia Investm...  high-estimated  \n",
       "399  0      Sequoia Capital China, SIG Asia Investm...   mid-estimated  \n",
       "572  0      Sequoia Capital China, SIG Asia Investm...   mid-estimated  \n",
       "677  0      Sequoia Capital China, SIG Asia Investm...   mid-estimated  \n",
       "682  0      Sequoia Capital China, SIG Asia Investm...   mid-estimated  \n",
       "735  0      Sequoia Capital China, SIG Asia Investm...   low-estimated  \n",
       "812  0      Sequoia Capital China, SIG Asia Investm...   low-estimated  \n",
       "840  0      Sequoia Capital China, SIG Asia Investm...   low-estimated  \n",
       "843  0      Sequoia Capital China, SIG Asia Investm...   low-estimated  \n",
       "848  0      Sequoia Capital China, SIG Asia Investm...   low-estimated  \n",
       "861  0      Sequoia Capital China, SIG Asia Investm...   low-estimated  \n",
       "872  0      Sequoia Capital China, SIG Asia Investm...   low-estimated  \n",
       "885  0      Sequoia Capital China, SIG Asia Investm...   low-estimated  \n",
       "897  0      Sequoia Capital China, SIG Asia Investm...   low-estimated  "
      ]
     },
     "execution_count": 68,
     "metadata": {},
     "output_type": "execute_result"
    }
   ],
   "source": [
    "startups[startups['city'].isna()]"
   ]
  },
  {
   "cell_type": "markdown",
   "id": "2b3dc132",
   "metadata": {},
   "source": [
    "  <font color = '#0158e3'> *Значения пропущены в тех колонках, где название страны совпадает с названием города, поэтому можем заменить пропуски в колонке city значениями колонки country.*"
   ]
  },
  {
   "cell_type": "code",
   "execution_count": 69,
   "id": "470b92b5",
   "metadata": {},
   "outputs": [],
   "source": [
    "startups['city'].fillna(startups['country'], inplace = True)"
   ]
  },
  {
   "cell_type": "code",
   "execution_count": 70,
   "id": "c691a0ff",
   "metadata": {
    "scrolled": true
   },
   "outputs": [
    {
     "data": {
      "text/html": [
       "<div>\n",
       "<style scoped>\n",
       "    .dataframe tbody tr th:only-of-type {\n",
       "        vertical-align: middle;\n",
       "    }\n",
       "\n",
       "    .dataframe tbody tr th {\n",
       "        vertical-align: top;\n",
       "    }\n",
       "\n",
       "    .dataframe thead th {\n",
       "        text-align: right;\n",
       "    }\n",
       "</style>\n",
       "<table border=\"1\" class=\"dataframe\">\n",
       "  <thead>\n",
       "    <tr style=\"text-align: right;\">\n",
       "      <th></th>\n",
       "      <th>company</th>\n",
       "      <th>valuation</th>\n",
       "      <th>date</th>\n",
       "      <th>country</th>\n",
       "      <th>city</th>\n",
       "      <th>industry</th>\n",
       "      <th>investors</th>\n",
       "      <th>category</th>\n",
       "    </tr>\n",
       "  </thead>\n",
       "  <tbody>\n",
       "    <tr>\n",
       "      <th>843</th>\n",
       "      <td>Matrixport</td>\n",
       "      <td>1.0</td>\n",
       "      <td>2021-06-01</td>\n",
       "      <td>Singapore</td>\n",
       "      <td>Singapore</td>\n",
       "      <td>Fintech</td>\n",
       "      <td>0      Sequoia Capital China, SIG Asia Investm...</td>\n",
       "      <td>low-estimated</td>\n",
       "    </tr>\n",
       "    <tr>\n",
       "      <th>844</th>\n",
       "      <td>Shippo</td>\n",
       "      <td>1.0</td>\n",
       "      <td>2021-06-02</td>\n",
       "      <td>United States</td>\n",
       "      <td>San Francisco</td>\n",
       "      <td>Supply chain, logistics, &amp; delivery</td>\n",
       "      <td>0      Sequoia Capital China, SIG Asia Investm...</td>\n",
       "      <td>low-estimated</td>\n",
       "    </tr>\n",
       "    <tr>\n",
       "      <th>845</th>\n",
       "      <td>Thirty Madison</td>\n",
       "      <td>1.0</td>\n",
       "      <td>2021-06-02</td>\n",
       "      <td>United States</td>\n",
       "      <td>New York</td>\n",
       "      <td>Health</td>\n",
       "      <td>0      Sequoia Capital China, SIG Asia Investm...</td>\n",
       "      <td>low-estimated</td>\n",
       "    </tr>\n",
       "    <tr>\n",
       "      <th>846</th>\n",
       "      <td>LetsGetChecked</td>\n",
       "      <td>1.0</td>\n",
       "      <td>2021-06-07</td>\n",
       "      <td>Ireland</td>\n",
       "      <td>Dublin</td>\n",
       "      <td>Health</td>\n",
       "      <td>0      Sequoia Capital China, SIG Asia Investm...</td>\n",
       "      <td>low-estimated</td>\n",
       "    </tr>\n",
       "    <tr>\n",
       "      <th>847</th>\n",
       "      <td>EcoFlow</td>\n",
       "      <td>1.0</td>\n",
       "      <td>2021-06-10</td>\n",
       "      <td>China</td>\n",
       "      <td>Shenzhen</td>\n",
       "      <td>Hardware</td>\n",
       "      <td>0      Sequoia Capital China, SIG Asia Investm...</td>\n",
       "      <td>low-estimated</td>\n",
       "    </tr>\n",
       "    <tr>\n",
       "      <th>848</th>\n",
       "      <td>Carro</td>\n",
       "      <td>1.0</td>\n",
       "      <td>2021-06-14</td>\n",
       "      <td>Singapore</td>\n",
       "      <td>Singapore</td>\n",
       "      <td>E-commerce &amp; direct-to-consumer</td>\n",
       "      <td>0      Sequoia Capital China, SIG Asia Investm...</td>\n",
       "      <td>low-estimated</td>\n",
       "    </tr>\n",
       "  </tbody>\n",
       "</table>\n",
       "</div>"
      ],
      "text/plain": [
       "            company  valuation       date        country           city  \\\n",
       "843      Matrixport        1.0 2021-06-01      Singapore      Singapore   \n",
       "844          Shippo        1.0 2021-06-02  United States  San Francisco   \n",
       "845  Thirty Madison        1.0 2021-06-02  United States       New York   \n",
       "846  LetsGetChecked        1.0 2021-06-07        Ireland         Dublin   \n",
       "847         EcoFlow        1.0 2021-06-10          China       Shenzhen   \n",
       "848           Carro        1.0 2021-06-14      Singapore      Singapore   \n",
       "\n",
       "                                industry  \\\n",
       "843                              Fintech   \n",
       "844  Supply chain, logistics, & delivery   \n",
       "845                               Health   \n",
       "846                               Health   \n",
       "847                             Hardware   \n",
       "848      E-commerce & direct-to-consumer   \n",
       "\n",
       "                                             investors       category  \n",
       "843  0      Sequoia Capital China, SIG Asia Investm...  low-estimated  \n",
       "844  0      Sequoia Capital China, SIG Asia Investm...  low-estimated  \n",
       "845  0      Sequoia Capital China, SIG Asia Investm...  low-estimated  \n",
       "846  0      Sequoia Capital China, SIG Asia Investm...  low-estimated  \n",
       "847  0      Sequoia Capital China, SIG Asia Investm...  low-estimated  \n",
       "848  0      Sequoia Capital China, SIG Asia Investm...  low-estimated  "
      ]
     },
     "execution_count": 70,
     "metadata": {},
     "output_type": "execute_result"
    }
   ],
   "source": [
    "startups.iloc[843:849]"
   ]
  },
  {
   "cell_type": "markdown",
   "id": "b8a5f5e2",
   "metadata": {},
   "source": [
    "  <font color = '#0158e3'> *Проверили, что замена произошла. Можем продолжить работу с данными.*"
   ]
  },
  {
   "cell_type": "code",
   "execution_count": 71,
   "id": "5b478fca",
   "metadata": {
    "scrolled": true
   },
   "outputs": [
    {
     "data": {
      "text/html": [
       "<div>\n",
       "<style scoped>\n",
       "    .dataframe tbody tr th:only-of-type {\n",
       "        vertical-align: middle;\n",
       "    }\n",
       "\n",
       "    .dataframe tbody tr th {\n",
       "        vertical-align: top;\n",
       "    }\n",
       "\n",
       "    .dataframe thead th {\n",
       "        text-align: right;\n",
       "    }\n",
       "</style>\n",
       "<table border=\"1\" class=\"dataframe\">\n",
       "  <thead>\n",
       "    <tr style=\"text-align: right;\">\n",
       "      <th></th>\n",
       "      <th>count</th>\n",
       "      <th>sum_value</th>\n",
       "      <th>mean_value</th>\n",
       "      <th>min_value</th>\n",
       "      <th>max_value</th>\n",
       "    </tr>\n",
       "    <tr>\n",
       "      <th>city</th>\n",
       "      <th></th>\n",
       "      <th></th>\n",
       "      <th></th>\n",
       "      <th></th>\n",
       "      <th></th>\n",
       "    </tr>\n",
       "  </thead>\n",
       "  <tbody>\n",
       "    <tr>\n",
       "      <th>San Francisco</th>\n",
       "      <td>134</td>\n",
       "      <td>602.12</td>\n",
       "      <td>4.493433</td>\n",
       "      <td>1.0</td>\n",
       "      <td>95.0</td>\n",
       "    </tr>\n",
       "    <tr>\n",
       "      <th>New York</th>\n",
       "      <td>81</td>\n",
       "      <td>175.44</td>\n",
       "      <td>2.165926</td>\n",
       "      <td>1.0</td>\n",
       "      <td>10.0</td>\n",
       "    </tr>\n",
       "    <tr>\n",
       "      <th>Beijing</th>\n",
       "      <td>62</td>\n",
       "      <td>289.57</td>\n",
       "      <td>4.670484</td>\n",
       "      <td>1.0</td>\n",
       "      <td>140.0</td>\n",
       "    </tr>\n",
       "    <tr>\n",
       "      <th>Shanghai</th>\n",
       "      <td>45</td>\n",
       "      <td>115.45</td>\n",
       "      <td>2.565556</td>\n",
       "      <td>1.0</td>\n",
       "      <td>20.0</td>\n",
       "    </tr>\n",
       "    <tr>\n",
       "      <th>London</th>\n",
       "      <td>28</td>\n",
       "      <td>126.38</td>\n",
       "      <td>4.513571</td>\n",
       "      <td>1.0</td>\n",
       "      <td>33.0</td>\n",
       "    </tr>\n",
       "    <tr>\n",
       "      <th>...</th>\n",
       "      <td>...</td>\n",
       "      <td>...</td>\n",
       "      <td>...</td>\n",
       "      <td>...</td>\n",
       "      <td>...</td>\n",
       "    </tr>\n",
       "    <tr>\n",
       "      <th>Islandia</th>\n",
       "      <td>1</td>\n",
       "      <td>1.10</td>\n",
       "      <td>1.100000</td>\n",
       "      <td>1.1</td>\n",
       "      <td>1.1</td>\n",
       "    </tr>\n",
       "    <tr>\n",
       "      <th>Jacksonville</th>\n",
       "      <td>1</td>\n",
       "      <td>18.00</td>\n",
       "      <td>18.000000</td>\n",
       "      <td>18.0</td>\n",
       "      <td>18.0</td>\n",
       "    </tr>\n",
       "    <tr>\n",
       "      <th>Jaipur</th>\n",
       "      <td>1</td>\n",
       "      <td>1.20</td>\n",
       "      <td>1.200000</td>\n",
       "      <td>1.2</td>\n",
       "      <td>1.2</td>\n",
       "    </tr>\n",
       "    <tr>\n",
       "      <th>Jeju-do</th>\n",
       "      <td>1</td>\n",
       "      <td>1.00</td>\n",
       "      <td>1.000000</td>\n",
       "      <td>1.0</td>\n",
       "      <td>1.0</td>\n",
       "    </tr>\n",
       "    <tr>\n",
       "      <th>Zurich</th>\n",
       "      <td>1</td>\n",
       "      <td>1.00</td>\n",
       "      <td>1.000000</td>\n",
       "      <td>1.0</td>\n",
       "      <td>1.0</td>\n",
       "    </tr>\n",
       "  </tbody>\n",
       "</table>\n",
       "<p>241 rows × 5 columns</p>\n",
       "</div>"
      ],
      "text/plain": [
       "               count  sum_value  mean_value  min_value  max_value\n",
       "city                                                             \n",
       "San Francisco    134     602.12    4.493433        1.0       95.0\n",
       "New York          81     175.44    2.165926        1.0       10.0\n",
       "Beijing           62     289.57    4.670484        1.0      140.0\n",
       "Shanghai          45     115.45    2.565556        1.0       20.0\n",
       "London            28     126.38    4.513571        1.0       33.0\n",
       "...              ...        ...         ...        ...        ...\n",
       "Islandia           1       1.10    1.100000        1.1        1.1\n",
       "Jacksonville       1      18.00   18.000000       18.0       18.0\n",
       "Jaipur             1       1.20    1.200000        1.2        1.2\n",
       "Jeju-do            1       1.00    1.000000        1.0        1.0\n",
       "Zurich             1       1.00    1.000000        1.0        1.0\n",
       "\n",
       "[241 rows x 5 columns]"
      ]
     },
     "execution_count": 71,
     "metadata": {},
     "output_type": "execute_result"
    }
   ],
   "source": [
    "startups.groupby('city')\\\n",
    ".agg(**{'count' : ('valuation', 'count'), 'sum_value' : ('valuation', 'sum'), 'mean_value' : ('valuation', 'mean'),\n",
    "        'min_value' : ('valuation', 'min'), 'max_value' : ('valuation', 'max')})\\\n",
    ".sort_values('count', ascending = False)"
   ]
  },
  {
   "cell_type": "markdown",
   "id": "f70312cc",
   "metadata": {},
   "source": [
    "   <font color = '#0158e3'> *Больше всего стартапов зарегистрировано в Сан-Франциско и Нью-Йорке - 134 и 81 стартап соответственно, что составляет примерно половину от всех стартапов в США. На 3 и 4 месте идут города Китая - Пекин и Шанхай, число стартапов в которых также суммарно составляет половину числа стартапов по всему Китаю. И на 5 месте по количеству стартапов идет Лондон.*\n",
    "    <br> *Из ТОП-5 городов по суммарной стоимости стартапов лидирует Сан-Франциско, а по среднему значению - Пекин, где также находится и самый дорогой стартап.*"
   ]
  },
  {
   "cell_type": "markdown",
   "id": "f06c6748",
   "metadata": {},
   "source": [
    "### №2 Какие индустрии стартапов преобладают в ТОП-5 городах с их наибольшим числом"
   ]
  },
  {
   "cell_type": "code",
   "execution_count": 72,
   "id": "2795abbb",
   "metadata": {},
   "outputs": [
    {
     "data": {
      "text/html": [
       "<div>\n",
       "<style scoped>\n",
       "    .dataframe tbody tr th:only-of-type {\n",
       "        vertical-align: middle;\n",
       "    }\n",
       "\n",
       "    .dataframe tbody tr th {\n",
       "        vertical-align: top;\n",
       "    }\n",
       "\n",
       "    .dataframe thead tr th {\n",
       "        text-align: left;\n",
       "    }\n",
       "\n",
       "    .dataframe thead tr:last-of-type th {\n",
       "        text-align: right;\n",
       "    }\n",
       "</style>\n",
       "<table border=\"1\" class=\"dataframe\">\n",
       "  <thead>\n",
       "    <tr>\n",
       "      <th></th>\n",
       "      <th colspan=\"5\" halign=\"left\">company</th>\n",
       "    </tr>\n",
       "    <tr>\n",
       "      <th>city</th>\n",
       "      <th>Beijing</th>\n",
       "      <th>London</th>\n",
       "      <th>New York</th>\n",
       "      <th>San Francisco</th>\n",
       "      <th>Shanghai</th>\n",
       "    </tr>\n",
       "    <tr>\n",
       "      <th>industry</th>\n",
       "      <th></th>\n",
       "      <th></th>\n",
       "      <th></th>\n",
       "      <th></th>\n",
       "      <th></th>\n",
       "    </tr>\n",
       "  </thead>\n",
       "  <tbody>\n",
       "    <tr>\n",
       "      <th>Artificial Intelligence</th>\n",
       "      <td>15.0</td>\n",
       "      <td>7.0</td>\n",
       "      <td>6.0</td>\n",
       "      <td>6.0</td>\n",
       "      <td>11.0</td>\n",
       "    </tr>\n",
       "    <tr>\n",
       "      <th>Auto &amp; transportation</th>\n",
       "      <td>0.0</td>\n",
       "      <td>0.0</td>\n",
       "      <td>1.0</td>\n",
       "      <td>0.0</td>\n",
       "      <td>22.0</td>\n",
       "    </tr>\n",
       "    <tr>\n",
       "      <th>Consumer &amp; retail</th>\n",
       "      <td>6.0</td>\n",
       "      <td>0.0</td>\n",
       "      <td>4.0</td>\n",
       "      <td>3.0</td>\n",
       "      <td>4.0</td>\n",
       "    </tr>\n",
       "    <tr>\n",
       "      <th>Cybersecurity</th>\n",
       "      <td>0.0</td>\n",
       "      <td>0.0</td>\n",
       "      <td>6.0</td>\n",
       "      <td>5.0</td>\n",
       "      <td>0.0</td>\n",
       "    </tr>\n",
       "    <tr>\n",
       "      <th>Data management &amp; analytics</th>\n",
       "      <td>2.0</td>\n",
       "      <td>0.0</td>\n",
       "      <td>5.0</td>\n",
       "      <td>1.0</td>\n",
       "      <td>0.0</td>\n",
       "    </tr>\n",
       "    <tr>\n",
       "      <th>E-commerce &amp; direct-to-consumer</th>\n",
       "      <td>19.0</td>\n",
       "      <td>4.0</td>\n",
       "      <td>5.0</td>\n",
       "      <td>4.0</td>\n",
       "      <td>11.0</td>\n",
       "    </tr>\n",
       "    <tr>\n",
       "      <th>Edtech</th>\n",
       "      <td>13.0</td>\n",
       "      <td>0.0</td>\n",
       "      <td>1.0</td>\n",
       "      <td>2.0</td>\n",
       "      <td>7.0</td>\n",
       "    </tr>\n",
       "    <tr>\n",
       "      <th>Fintech</th>\n",
       "      <td>6.0</td>\n",
       "      <td>71.0</td>\n",
       "      <td>32.0</td>\n",
       "      <td>26.0</td>\n",
       "      <td>0.0</td>\n",
       "    </tr>\n",
       "    <tr>\n",
       "      <th>Hardware</th>\n",
       "      <td>5.0</td>\n",
       "      <td>4.0</td>\n",
       "      <td>1.0</td>\n",
       "      <td>1.0</td>\n",
       "      <td>11.0</td>\n",
       "    </tr>\n",
       "    <tr>\n",
       "      <th>Health</th>\n",
       "      <td>3.0</td>\n",
       "      <td>0.0</td>\n",
       "      <td>15.0</td>\n",
       "      <td>7.0</td>\n",
       "      <td>2.0</td>\n",
       "    </tr>\n",
       "    <tr>\n",
       "      <th>Internet software &amp; services</th>\n",
       "      <td>8.0</td>\n",
       "      <td>4.0</td>\n",
       "      <td>20.0</td>\n",
       "      <td>33.0</td>\n",
       "      <td>9.0</td>\n",
       "    </tr>\n",
       "    <tr>\n",
       "      <th>Mobile &amp; telecommunications</th>\n",
       "      <td>15.0</td>\n",
       "      <td>0.0</td>\n",
       "      <td>0.0</td>\n",
       "      <td>4.0</td>\n",
       "      <td>9.0</td>\n",
       "    </tr>\n",
       "    <tr>\n",
       "      <th>Other</th>\n",
       "      <td>0.0</td>\n",
       "      <td>7.0</td>\n",
       "      <td>2.0</td>\n",
       "      <td>2.0</td>\n",
       "      <td>2.0</td>\n",
       "    </tr>\n",
       "    <tr>\n",
       "      <th>Supply chain, logistics, &amp; delivery</th>\n",
       "      <td>3.0</td>\n",
       "      <td>4.0</td>\n",
       "      <td>1.0</td>\n",
       "      <td>4.0</td>\n",
       "      <td>11.0</td>\n",
       "    </tr>\n",
       "    <tr>\n",
       "      <th>Travel</th>\n",
       "      <td>5.0</td>\n",
       "      <td>0.0</td>\n",
       "      <td>0.0</td>\n",
       "      <td>1.0</td>\n",
       "      <td>0.0</td>\n",
       "    </tr>\n",
       "  </tbody>\n",
       "</table>\n",
       "</div>"
      ],
      "text/plain": [
       "                                    company                                \\\n",
       "city                                Beijing London New York San Francisco   \n",
       "industry                                                                    \n",
       "Artificial Intelligence                15.0    7.0      6.0           6.0   \n",
       "Auto & transportation                   0.0    0.0      1.0           0.0   \n",
       "Consumer & retail                       6.0    0.0      4.0           3.0   \n",
       "Cybersecurity                           0.0    0.0      6.0           5.0   \n",
       "Data management & analytics             2.0    0.0      5.0           1.0   \n",
       "E-commerce & direct-to-consumer        19.0    4.0      5.0           4.0   \n",
       "Edtech                                 13.0    0.0      1.0           2.0   \n",
       "Fintech                                 6.0   71.0     32.0          26.0   \n",
       "Hardware                                5.0    4.0      1.0           1.0   \n",
       "Health                                  3.0    0.0     15.0           7.0   \n",
       "Internet software & services            8.0    4.0     20.0          33.0   \n",
       "Mobile & telecommunications            15.0    0.0      0.0           4.0   \n",
       "Other                                   0.0    7.0      2.0           2.0   \n",
       "Supply chain, logistics, & delivery     3.0    4.0      1.0           4.0   \n",
       "Travel                                  5.0    0.0      0.0           1.0   \n",
       "\n",
       "                                              \n",
       "city                                Shanghai  \n",
       "industry                                      \n",
       "Artificial Intelligence                 11.0  \n",
       "Auto & transportation                   22.0  \n",
       "Consumer & retail                        4.0  \n",
       "Cybersecurity                            0.0  \n",
       "Data management & analytics              0.0  \n",
       "E-commerce & direct-to-consumer         11.0  \n",
       "Edtech                                   7.0  \n",
       "Fintech                                  0.0  \n",
       "Hardware                                11.0  \n",
       "Health                                   2.0  \n",
       "Internet software & services             9.0  \n",
       "Mobile & telecommunications              9.0  \n",
       "Other                                    2.0  \n",
       "Supply chain, logistics, & delivery     11.0  \n",
       "Travel                                   0.0  "
      ]
     },
     "execution_count": 72,
     "metadata": {},
     "output_type": "execute_result"
    }
   ],
   "source": [
    "city_industries = startups[startups['city'].isin(['San Francisco', 'New York', 'Beijing', 'Shanghai', 'London'])]\\\n",
    ".groupby(['industry', 'city'])\\\n",
    ".agg({'company' : 'count'})\\\n",
    ".unstack()\n",
    "(city_industries / city_industries.sum() * 100).round()"
   ]
  },
  {
   "cell_type": "markdown",
   "id": "9779415b",
   "metadata": {},
   "source": [
    "<font color = '#0158e3'> *Очень четко специализация стартапов выражена в Лондоне, где 71% стартапов принадлежат финтех индустрии. затем идет Сан-Франциско - 33% стартапов в области ПО и услуг, 26% - Финтех. И на 3 месте Нью-Йорк - 32% - стартапы Финтех индустрии.*\n",
    "    <br> *В городах Китая - Шанхае и Пекине специализация не так ярко-выражена.*"
   ]
  }
 ],
 "metadata": {
  "kernelspec": {
   "display_name": "Python 3 (ipykernel)",
   "language": "python",
   "name": "python3"
  },
  "language_info": {
   "codemirror_mode": {
    "name": "ipython",
    "version": 3
   },
   "file_extension": ".py",
   "mimetype": "text/x-python",
   "name": "python",
   "nbconvert_exporter": "python",
   "pygments_lexer": "ipython3",
   "version": "3.9.12"
  }
 },
 "nbformat": 4,
 "nbformat_minor": 5
}
